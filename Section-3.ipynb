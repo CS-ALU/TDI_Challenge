{
 "cells": [
  {
   "cell_type": "markdown",
   "metadata": {
    "_cell_guid": "7a7e9b44-c604-4844-84f9-c526c22ec33b",
    "_uuid": "5b6a0ba4effb8503ef2e09d44f433d91e4795a41"
   },
   "source": [
    "# Loan Prediction"
   ]
  },
  {
   "cell_type": "markdown",
   "metadata": {
    "_cell_guid": "4cceb0a2-4139-4e27-b6b7-afaf525d8ae0",
    "_uuid": "751f29d3ec92072080e38e9d59dbcbca0134aee9"
   },
   "source": [
    "**Data Set Information:** The training data contains 22500 observations with the predictor variables as well as the response variable. The test set contains 7500 observations with the response variable removed.\n",
    "\n",
    "**Task:** Predict the response variable (default status) for the test data.\n",
    "\n",
    "**IMPORTANT:** Please include the variable \"ID\" in the prediction, so that model accuracy can be evaluated.\n",
    "\n",
    "**Variable descriptions:** This research employed a binary variable, default payment (Yes = 1, No = 0), as the response variable. \n",
    "\n",
    "This study reviewed the literature and used the following 23 variables as explanatory variables: \n",
    "- **X1:** Amount of the given credit (NT dollar): it includes both the individual consumer credit and his/her family (supplementary) credit. \n",
    "- **X2:** Gender (1 = male; 2 = female). \n",
    "- **X3:** Education (1 = graduate school; 2 = university; 3 = high school; 4 = others). \n",
    "- **X4:** Marital status (1 = married; 2 = single; 3 = others). \n",
    "- **X5:** Age (year). \n",
    "- **X6 - X11:** History of past payment. We tracked the past monthly payment records (from April to September, 2005) as follows: \n",
    "- **X6** = the repayment status in September, 2005; \n",
    "- **X7** = the repayment status in August, 2005; . . .;\n",
    "- **X11** = the repayment status in April, 2005. The measurement scale for the repayment status is: \n",
    " - -1 = pay duly; \n",
    " - 1 = payment delay for one month; \n",
    " - 2 = payment delay for two months; . . .; \n",
    " - 8 = payment delay for eight months; \n",
    " - 9 = payment delay for nine months and above. \n",
    " - -2 = indicates no consumption in the month, and a value of \n",
    " - 0 = indicates the use of revolving credit (equivalent to prepayment)\n",
    "- **X12-X17:** Amount of bill statement (NT dollar). \n",
    "- **X12** = amount of bill statement in September, 2005; \n",
    "- **X13** = amount of bill statement in August, 2005; . . .; \n",
    "- **X17** = amount of bill statement in April, 2005. \n",
    "- **X18-X23:** Amount of previous payment (NT dollar). \n",
    "- **X18** = amount paid in September, 2005; \n",
    "- **X19** = amount paid in August, 2005; . . .;\n",
    "- **X23** = amount paid in April, 2005. "
   ]
  },
  {
   "cell_type": "markdown",
   "metadata": {
    "_cell_guid": "a192a458-87cc-49ff-b5b6-5295a642154a",
    "_uuid": "923e61c45a34cfaf43ae15acb81719a573368ea5"
   },
   "source": [
    "## The below Report is divided into 3 main sections namely:\n",
    "\n",
    "### 1. Initialize Libraries, Load Data & Preprocess\n",
    "### 2. Exploratory Data Analysis and Visualization\n",
    "### 3. Predictive Modeling"
   ]
  },
  {
   "cell_type": "markdown",
   "metadata": {
    "_cell_guid": "e065b7ea-93a0-401d-8fc3-bf7ab1737910",
    "_uuid": "58b300db2697da98a3a22ea80f30d2dd126b6879"
   },
   "source": [
    "- ### Goal of the study is to create a model that predicts if a client will default on credit card payment in next month.\n",
    "- ### This is a Supervised binary classification problem. Where Defaulter Yes(1) or No(0) is the dependant variable"
   ]
  },
  {
   "cell_type": "markdown",
   "metadata": {
    "_cell_guid": "e22581f9-9682-4abc-89ec-a8cb66c2428a",
    "_uuid": "d65243c8f5f0eea1ff10f426c909ae466a4ef4f4"
   },
   "source": [
    "To find the predictability of a defaulter our main objective is to find what features can play a role to predict a credit card defaulter? Therefore we need to find answers to some questions like:\n",
    "- **1.** Is the % of defaulters significantly different between male & female ?\n",
    "- **2.** How does Marital Status effect the proportion of defaulters ?\n",
    "- **3.** Does the Level of Education play a role in the % of defaulters ?\n",
    "- **4.** Which age group constitutes for higher proportion of defaulters ?\n",
    "- **5.** Is the number of defaulters correlated with credit limit ?\n",
    "- **6.** Is there a pattern in past repayment statuses which can help predict probability of a defaulter ?\n",
    "- **7.** Does the history of credit card bill amount has a correlation with the % of defaulters ?"
   ]
  },
  {
   "cell_type": "markdown",
   "metadata": {
    "_cell_guid": "e9a635b8-1b92-4b98-a17d-b7e46ba1711f",
    "_uuid": "7f11001fe7d57667a518f4aa3d4272adf9977aa1"
   },
   "source": [
    "# 1. Initialize Libraries, Load Data & Preprocess"
   ]
  },
  {
   "cell_type": "code",
   "execution_count": 1,
   "metadata": {
    "_cell_guid": "7bfb00ca-b6ca-4e19-8ff5-4cb7fc9ed55b",
    "_uuid": "2c245ec513d7acda2444d1d399bbb002591d753b"
   },
   "outputs": [],
   "source": [
    "# Import the required Packages\n",
    "import pandas as pd\n",
    "import matplotlib \n",
    "import matplotlib.pyplot as plt\n",
    "import seaborn as sns\n",
    "import numpy as np\n",
    "from sklearn.manifold import TSNE\n",
    "from IPython.core.interactiveshell import InteractiveShell\n",
    "import warnings\n",
    "from sklearn.preprocessing import StandardScaler\n",
    "from sklearn.manifold import TSNE\n",
    "warnings.filterwarnings('ignore') # to supress seaborn warnings\n",
    "pd.options.display.max_columns = None # Remove pandas display column number limit\n",
    "#InteractiveShell.ast_node_interactivity = \"all\" # Display all values of a jupyter notebook cell"
   ]
  },
  {
   "cell_type": "code",
   "execution_count": 3,
   "metadata": {
    "_cell_guid": "02594102-d9d0-4ff8-b949-f086f67801f5",
    "_uuid": "7e7b966d06e1795bb5c17bd32ead63bbde52ea21"
   },
   "outputs": [],
   "source": [
    "# Read the data into DataFrames.\n",
    "train = pd.read_csv(\"credit_card_default_TRAIN.csv\",index_col=0)\n",
    "test = pd.read_csv(\"credit_card_default_TEST.csv\",index_col=0) "
   ]
  },
  {
   "cell_type": "code",
   "execution_count": 4,
   "metadata": {
    "_cell_guid": "a43bf7ff-c2df-41c8-bcb3-342a2769ae5a",
    "_uuid": "c58fdcb2fd964ab40858e7bc97815e258bb25161"
   },
   "outputs": [
    {
     "data": {
      "text/html": [
       "<div>\n",
       "<style scoped>\n",
       "    .dataframe tbody tr th:only-of-type {\n",
       "        vertical-align: middle;\n",
       "    }\n",
       "\n",
       "    .dataframe tbody tr th {\n",
       "        vertical-align: top;\n",
       "    }\n",
       "\n",
       "    .dataframe thead th {\n",
       "        text-align: right;\n",
       "    }\n",
       "</style>\n",
       "<table border=\"1\" class=\"dataframe\">\n",
       "  <thead>\n",
       "    <tr style=\"text-align: right;\">\n",
       "      <th></th>\n",
       "      <th>X1</th>\n",
       "      <th>X2</th>\n",
       "      <th>X3</th>\n",
       "      <th>X4</th>\n",
       "      <th>X5</th>\n",
       "      <th>X6</th>\n",
       "      <th>X7</th>\n",
       "      <th>X8</th>\n",
       "      <th>X9</th>\n",
       "      <th>X10</th>\n",
       "      <th>X11</th>\n",
       "      <th>X12</th>\n",
       "      <th>X13</th>\n",
       "      <th>X14</th>\n",
       "      <th>X15</th>\n",
       "      <th>X16</th>\n",
       "      <th>X17</th>\n",
       "      <th>X18</th>\n",
       "      <th>X19</th>\n",
       "      <th>X20</th>\n",
       "      <th>X21</th>\n",
       "      <th>X22</th>\n",
       "      <th>X23</th>\n",
       "      <th>Y</th>\n",
       "    </tr>\n",
       "    <tr>\n",
       "      <th>Variable</th>\n",
       "      <th></th>\n",
       "      <th></th>\n",
       "      <th></th>\n",
       "      <th></th>\n",
       "      <th></th>\n",
       "      <th></th>\n",
       "      <th></th>\n",
       "      <th></th>\n",
       "      <th></th>\n",
       "      <th></th>\n",
       "      <th></th>\n",
       "      <th></th>\n",
       "      <th></th>\n",
       "      <th></th>\n",
       "      <th></th>\n",
       "      <th></th>\n",
       "      <th></th>\n",
       "      <th></th>\n",
       "      <th></th>\n",
       "      <th></th>\n",
       "      <th></th>\n",
       "      <th></th>\n",
       "      <th></th>\n",
       "      <th></th>\n",
       "    </tr>\n",
       "  </thead>\n",
       "  <tbody>\n",
       "    <tr>\n",
       "      <td>ID</td>\n",
       "      <td>LIMIT_BAL</td>\n",
       "      <td>SEX</td>\n",
       "      <td>EDUCATION</td>\n",
       "      <td>MARRIAGE</td>\n",
       "      <td>AGE</td>\n",
       "      <td>PAY_0</td>\n",
       "      <td>PAY_2</td>\n",
       "      <td>PAY_3</td>\n",
       "      <td>PAY_4</td>\n",
       "      <td>PAY_5</td>\n",
       "      <td>PAY_6</td>\n",
       "      <td>BILL_AMT1</td>\n",
       "      <td>BILL_AMT2</td>\n",
       "      <td>BILL_AMT3</td>\n",
       "      <td>BILL_AMT4</td>\n",
       "      <td>BILL_AMT5</td>\n",
       "      <td>BILL_AMT6</td>\n",
       "      <td>PAY_AMT1</td>\n",
       "      <td>PAY_AMT2</td>\n",
       "      <td>PAY_AMT3</td>\n",
       "      <td>PAY_AMT4</td>\n",
       "      <td>PAY_AMT5</td>\n",
       "      <td>PAY_AMT6</td>\n",
       "      <td>default payment next month</td>\n",
       "    </tr>\n",
       "    <tr>\n",
       "      <td>1</td>\n",
       "      <td>20000</td>\n",
       "      <td>2</td>\n",
       "      <td>2</td>\n",
       "      <td>1</td>\n",
       "      <td>24</td>\n",
       "      <td>2</td>\n",
       "      <td>2</td>\n",
       "      <td>-1</td>\n",
       "      <td>-1</td>\n",
       "      <td>-2</td>\n",
       "      <td>-2</td>\n",
       "      <td>3913</td>\n",
       "      <td>3102</td>\n",
       "      <td>689</td>\n",
       "      <td>0</td>\n",
       "      <td>0</td>\n",
       "      <td>0</td>\n",
       "      <td>0</td>\n",
       "      <td>689</td>\n",
       "      <td>0</td>\n",
       "      <td>0</td>\n",
       "      <td>0</td>\n",
       "      <td>0</td>\n",
       "      <td>1</td>\n",
       "    </tr>\n",
       "    <tr>\n",
       "      <td>2</td>\n",
       "      <td>120000</td>\n",
       "      <td>2</td>\n",
       "      <td>2</td>\n",
       "      <td>2</td>\n",
       "      <td>26</td>\n",
       "      <td>-1</td>\n",
       "      <td>2</td>\n",
       "      <td>0</td>\n",
       "      <td>0</td>\n",
       "      <td>0</td>\n",
       "      <td>2</td>\n",
       "      <td>2682</td>\n",
       "      <td>1725</td>\n",
       "      <td>2682</td>\n",
       "      <td>3272</td>\n",
       "      <td>3455</td>\n",
       "      <td>3261</td>\n",
       "      <td>0</td>\n",
       "      <td>1000</td>\n",
       "      <td>1000</td>\n",
       "      <td>1000</td>\n",
       "      <td>0</td>\n",
       "      <td>2000</td>\n",
       "      <td>1</td>\n",
       "    </tr>\n",
       "    <tr>\n",
       "      <td>3</td>\n",
       "      <td>90000</td>\n",
       "      <td>2</td>\n",
       "      <td>2</td>\n",
       "      <td>2</td>\n",
       "      <td>34</td>\n",
       "      <td>0</td>\n",
       "      <td>0</td>\n",
       "      <td>0</td>\n",
       "      <td>0</td>\n",
       "      <td>0</td>\n",
       "      <td>0</td>\n",
       "      <td>29239</td>\n",
       "      <td>14027</td>\n",
       "      <td>13559</td>\n",
       "      <td>14331</td>\n",
       "      <td>14948</td>\n",
       "      <td>15549</td>\n",
       "      <td>1518</td>\n",
       "      <td>1500</td>\n",
       "      <td>1000</td>\n",
       "      <td>1000</td>\n",
       "      <td>1000</td>\n",
       "      <td>5000</td>\n",
       "      <td>0</td>\n",
       "    </tr>\n",
       "    <tr>\n",
       "      <td>4</td>\n",
       "      <td>50000</td>\n",
       "      <td>2</td>\n",
       "      <td>2</td>\n",
       "      <td>1</td>\n",
       "      <td>37</td>\n",
       "      <td>0</td>\n",
       "      <td>0</td>\n",
       "      <td>0</td>\n",
       "      <td>0</td>\n",
       "      <td>0</td>\n",
       "      <td>0</td>\n",
       "      <td>46990</td>\n",
       "      <td>48233</td>\n",
       "      <td>49291</td>\n",
       "      <td>28314</td>\n",
       "      <td>28959</td>\n",
       "      <td>29547</td>\n",
       "      <td>2000</td>\n",
       "      <td>2019</td>\n",
       "      <td>1200</td>\n",
       "      <td>1100</td>\n",
       "      <td>1069</td>\n",
       "      <td>1000</td>\n",
       "      <td>0</td>\n",
       "    </tr>\n",
       "  </tbody>\n",
       "</table>\n",
       "</div>"
      ],
      "text/plain": [
       "                 X1   X2         X3        X4   X5     X6     X7     X8  \\\n",
       "Variable                                                                  \n",
       "ID        LIMIT_BAL  SEX  EDUCATION  MARRIAGE  AGE  PAY_0  PAY_2  PAY_3   \n",
       "1             20000    2          2         1   24      2      2     -1   \n",
       "2            120000    2          2         2   26     -1      2      0   \n",
       "3             90000    2          2         2   34      0      0      0   \n",
       "4             50000    2          2         1   37      0      0      0   \n",
       "\n",
       "             X9    X10    X11        X12        X13        X14        X15  \\\n",
       "Variable                                                                    \n",
       "ID        PAY_4  PAY_5  PAY_6  BILL_AMT1  BILL_AMT2  BILL_AMT3  BILL_AMT4   \n",
       "1            -1     -2     -2       3913       3102        689          0   \n",
       "2             0      0      2       2682       1725       2682       3272   \n",
       "3             0      0      0      29239      14027      13559      14331   \n",
       "4             0      0      0      46990      48233      49291      28314   \n",
       "\n",
       "                X16        X17       X18       X19       X20       X21  \\\n",
       "Variable                                                                 \n",
       "ID        BILL_AMT5  BILL_AMT6  PAY_AMT1  PAY_AMT2  PAY_AMT3  PAY_AMT4   \n",
       "1                 0          0         0       689         0         0   \n",
       "2              3455       3261         0      1000      1000      1000   \n",
       "3             14948      15549      1518      1500      1000      1000   \n",
       "4             28959      29547      2000      2019      1200      1100   \n",
       "\n",
       "               X22       X23                           Y  \n",
       "Variable                                                  \n",
       "ID        PAY_AMT5  PAY_AMT6  default payment next month  \n",
       "1                0         0                           1  \n",
       "2                0      2000                           1  \n",
       "3             1000      5000                           0  \n",
       "4             1069      1000                           0  "
      ]
     },
     "execution_count": 4,
     "metadata": {},
     "output_type": "execute_result"
    }
   ],
   "source": [
    "# Breif look at the data\n",
    "train.head(5)"
   ]
  },
  {
   "cell_type": "code",
   "execution_count": 5,
   "metadata": {
    "_cell_guid": "bee4dc81-4671-49c9-98c5-5ac17454a900",
    "_uuid": "6c71500ce2368841f8810dd1954c30b28a50fe1a"
   },
   "outputs": [
    {
     "data": {
      "text/html": [
       "<div>\n",
       "<style scoped>\n",
       "    .dataframe tbody tr th:only-of-type {\n",
       "        vertical-align: middle;\n",
       "    }\n",
       "\n",
       "    .dataframe tbody tr th {\n",
       "        vertical-align: top;\n",
       "    }\n",
       "\n",
       "    .dataframe thead th {\n",
       "        text-align: right;\n",
       "    }\n",
       "</style>\n",
       "<table border=\"1\" class=\"dataframe\">\n",
       "  <thead>\n",
       "    <tr style=\"text-align: right;\">\n",
       "      <th></th>\n",
       "      <th>X1</th>\n",
       "      <th>X2</th>\n",
       "      <th>X3</th>\n",
       "      <th>X4</th>\n",
       "      <th>X5</th>\n",
       "      <th>X6</th>\n",
       "      <th>X7</th>\n",
       "      <th>X8</th>\n",
       "      <th>X9</th>\n",
       "      <th>X10</th>\n",
       "      <th>X11</th>\n",
       "      <th>X12</th>\n",
       "      <th>X13</th>\n",
       "      <th>X14</th>\n",
       "      <th>X15</th>\n",
       "      <th>X16</th>\n",
       "      <th>X17</th>\n",
       "      <th>X18</th>\n",
       "      <th>X19</th>\n",
       "      <th>X20</th>\n",
       "      <th>X21</th>\n",
       "      <th>X22</th>\n",
       "      <th>X23</th>\n",
       "    </tr>\n",
       "    <tr>\n",
       "      <th>Variable</th>\n",
       "      <th></th>\n",
       "      <th></th>\n",
       "      <th></th>\n",
       "      <th></th>\n",
       "      <th></th>\n",
       "      <th></th>\n",
       "      <th></th>\n",
       "      <th></th>\n",
       "      <th></th>\n",
       "      <th></th>\n",
       "      <th></th>\n",
       "      <th></th>\n",
       "      <th></th>\n",
       "      <th></th>\n",
       "      <th></th>\n",
       "      <th></th>\n",
       "      <th></th>\n",
       "      <th></th>\n",
       "      <th></th>\n",
       "      <th></th>\n",
       "      <th></th>\n",
       "      <th></th>\n",
       "      <th></th>\n",
       "    </tr>\n",
       "  </thead>\n",
       "  <tbody>\n",
       "    <tr>\n",
       "      <td>ID</td>\n",
       "      <td>LIMIT_BAL</td>\n",
       "      <td>SEX</td>\n",
       "      <td>EDUCATION</td>\n",
       "      <td>MARRIAGE</td>\n",
       "      <td>AGE</td>\n",
       "      <td>PAY_0</td>\n",
       "      <td>PAY_2</td>\n",
       "      <td>PAY_3</td>\n",
       "      <td>PAY_4</td>\n",
       "      <td>PAY_5</td>\n",
       "      <td>PAY_6</td>\n",
       "      <td>BILL_AMT1</td>\n",
       "      <td>BILL_AMT2</td>\n",
       "      <td>BILL_AMT3</td>\n",
       "      <td>BILL_AMT4</td>\n",
       "      <td>BILL_AMT5</td>\n",
       "      <td>BILL_AMT6</td>\n",
       "      <td>PAY_AMT1</td>\n",
       "      <td>PAY_AMT2</td>\n",
       "      <td>PAY_AMT3</td>\n",
       "      <td>PAY_AMT4</td>\n",
       "      <td>PAY_AMT5</td>\n",
       "      <td>PAY_AMT6</td>\n",
       "    </tr>\n",
       "    <tr>\n",
       "      <td>22501</td>\n",
       "      <td>180000</td>\n",
       "      <td>2</td>\n",
       "      <td>2</td>\n",
       "      <td>1</td>\n",
       "      <td>33</td>\n",
       "      <td>-1</td>\n",
       "      <td>-1</td>\n",
       "      <td>-1</td>\n",
       "      <td>-1</td>\n",
       "      <td>-1</td>\n",
       "      <td>-1</td>\n",
       "      <td>3490</td>\n",
       "      <td>0</td>\n",
       "      <td>1112</td>\n",
       "      <td>10383</td>\n",
       "      <td>1980</td>\n",
       "      <td>2672</td>\n",
       "      <td>0</td>\n",
       "      <td>1112</td>\n",
       "      <td>10383</td>\n",
       "      <td>1980</td>\n",
       "      <td>2672</td>\n",
       "      <td>2197</td>\n",
       "    </tr>\n",
       "    <tr>\n",
       "      <td>22502</td>\n",
       "      <td>230000</td>\n",
       "      <td>2</td>\n",
       "      <td>1</td>\n",
       "      <td>2</td>\n",
       "      <td>33</td>\n",
       "      <td>0</td>\n",
       "      <td>0</td>\n",
       "      <td>0</td>\n",
       "      <td>0</td>\n",
       "      <td>0</td>\n",
       "      <td>0</td>\n",
       "      <td>38646</td>\n",
       "      <td>40000</td>\n",
       "      <td>41354</td>\n",
       "      <td>42368</td>\n",
       "      <td>43161</td>\n",
       "      <td>45056</td>\n",
       "      <td>2000</td>\n",
       "      <td>2000</td>\n",
       "      <td>2000</td>\n",
       "      <td>1800</td>\n",
       "      <td>2600</td>\n",
       "      <td>2000</td>\n",
       "    </tr>\n",
       "    <tr>\n",
       "      <td>22503</td>\n",
       "      <td>50000</td>\n",
       "      <td>2</td>\n",
       "      <td>2</td>\n",
       "      <td>2</td>\n",
       "      <td>44</td>\n",
       "      <td>0</td>\n",
       "      <td>0</td>\n",
       "      <td>2</td>\n",
       "      <td>3</td>\n",
       "      <td>2</td>\n",
       "      <td>0</td>\n",
       "      <td>16094</td>\n",
       "      <td>18961</td>\n",
       "      <td>20857</td>\n",
       "      <td>20229</td>\n",
       "      <td>19623</td>\n",
       "      <td>19878</td>\n",
       "      <td>3155</td>\n",
       "      <td>2500</td>\n",
       "      <td>0</td>\n",
       "      <td>0</td>\n",
       "      <td>707</td>\n",
       "      <td>713</td>\n",
       "    </tr>\n",
       "    <tr>\n",
       "      <td>22504</td>\n",
       "      <td>260000</td>\n",
       "      <td>2</td>\n",
       "      <td>2</td>\n",
       "      <td>2</td>\n",
       "      <td>32</td>\n",
       "      <td>0</td>\n",
       "      <td>0</td>\n",
       "      <td>0</td>\n",
       "      <td>0</td>\n",
       "      <td>0</td>\n",
       "      <td>0</td>\n",
       "      <td>251330</td>\n",
       "      <td>256988</td>\n",
       "      <td>234260</td>\n",
       "      <td>227884</td>\n",
       "      <td>202178</td>\n",
       "      <td>198467</td>\n",
       "      <td>10000</td>\n",
       "      <td>9014</td>\n",
       "      <td>11002</td>\n",
       "      <td>7503</td>\n",
       "      <td>7502</td>\n",
       "      <td>7500</td>\n",
       "    </tr>\n",
       "  </tbody>\n",
       "</table>\n",
       "</div>"
      ],
      "text/plain": [
       "                 X1   X2         X3        X4   X5     X6     X7     X8  \\\n",
       "Variable                                                                  \n",
       "ID        LIMIT_BAL  SEX  EDUCATION  MARRIAGE  AGE  PAY_0  PAY_2  PAY_3   \n",
       "22501        180000    2          2         1   33     -1     -1     -1   \n",
       "22502        230000    2          1         2   33      0      0      0   \n",
       "22503         50000    2          2         2   44      0      0      2   \n",
       "22504        260000    2          2         2   32      0      0      0   \n",
       "\n",
       "             X9    X10    X11        X12        X13        X14        X15  \\\n",
       "Variable                                                                    \n",
       "ID        PAY_4  PAY_5  PAY_6  BILL_AMT1  BILL_AMT2  BILL_AMT3  BILL_AMT4   \n",
       "22501        -1     -1     -1       3490          0       1112      10383   \n",
       "22502         0      0      0      38646      40000      41354      42368   \n",
       "22503         3      2      0      16094      18961      20857      20229   \n",
       "22504         0      0      0     251330     256988     234260     227884   \n",
       "\n",
       "                X16        X17       X18       X19       X20       X21  \\\n",
       "Variable                                                                 \n",
       "ID        BILL_AMT5  BILL_AMT6  PAY_AMT1  PAY_AMT2  PAY_AMT3  PAY_AMT4   \n",
       "22501          1980       2672         0      1112     10383      1980   \n",
       "22502         43161      45056      2000      2000      2000      1800   \n",
       "22503         19623      19878      3155      2500         0         0   \n",
       "22504        202178     198467     10000      9014     11002      7503   \n",
       "\n",
       "               X22       X23  \n",
       "Variable                      \n",
       "ID        PAY_AMT5  PAY_AMT6  \n",
       "22501         2672      2197  \n",
       "22502         2600      2000  \n",
       "22503          707       713  \n",
       "22504         7502      7500  "
      ]
     },
     "execution_count": 5,
     "metadata": {},
     "output_type": "execute_result"
    }
   ],
   "source": [
    "test.head(5)"
   ]
  },
  {
   "cell_type": "markdown",
   "metadata": {
    "_cell_guid": "d99a6168-3588-4c12-8777-955f6d789682",
    "_uuid": "e4bf26d4171f54de17adcf506ea7a1b26017b49a"
   },
   "source": [
    "- **Fix the Header of the data**"
   ]
  },
  {
   "cell_type": "code",
   "execution_count": 6,
   "metadata": {
    "_cell_guid": "a782be61-2fb8-471b-bd4e-b0c5e625a90e",
    "_uuid": "186cb4e7fafc8fe44166ebf9f57468cef4647b5a"
   },
   "outputs": [],
   "source": [
    "# Fix Header of the data, row 0 serves as more sensible header names\n",
    "def fix_header(data):\n",
    "    new_header = data.iloc[0]    # take the first row for the header\n",
    "    data = data[1:]              # take the data without the header row\n",
    "    data.columns = new_header    # set the header row as the df header\n",
    "    data.rename(columns={'default payment next month':'DEFAULTER'}, inplace=True) # change column name\n",
    "    return data\n",
    "\n",
    "train = fix_header(train)\n",
    "test = fix_header(test)"
   ]
  },
  {
   "cell_type": "code",
   "execution_count": 7,
   "metadata": {
    "_cell_guid": "61dac9aa-94e3-4fde-b02b-cfe6f9ea6f4b",
    "_uuid": "9e54e81b98e699c4b89b308523daffc607aec5d3"
   },
   "outputs": [
    {
     "data": {
      "text/html": [
       "<div>\n",
       "<style scoped>\n",
       "    .dataframe tbody tr th:only-of-type {\n",
       "        vertical-align: middle;\n",
       "    }\n",
       "\n",
       "    .dataframe tbody tr th {\n",
       "        vertical-align: top;\n",
       "    }\n",
       "\n",
       "    .dataframe thead th {\n",
       "        text-align: right;\n",
       "    }\n",
       "</style>\n",
       "<table border=\"1\" class=\"dataframe\">\n",
       "  <thead>\n",
       "    <tr style=\"text-align: right;\">\n",
       "      <th>ID</th>\n",
       "      <th>LIMIT_BAL</th>\n",
       "      <th>SEX</th>\n",
       "      <th>EDUCATION</th>\n",
       "      <th>MARRIAGE</th>\n",
       "      <th>AGE</th>\n",
       "      <th>PAY_0</th>\n",
       "      <th>PAY_2</th>\n",
       "      <th>PAY_3</th>\n",
       "      <th>PAY_4</th>\n",
       "      <th>PAY_5</th>\n",
       "      <th>PAY_6</th>\n",
       "      <th>BILL_AMT1</th>\n",
       "      <th>BILL_AMT2</th>\n",
       "      <th>BILL_AMT3</th>\n",
       "      <th>BILL_AMT4</th>\n",
       "      <th>BILL_AMT5</th>\n",
       "      <th>BILL_AMT6</th>\n",
       "      <th>PAY_AMT1</th>\n",
       "      <th>PAY_AMT2</th>\n",
       "      <th>PAY_AMT3</th>\n",
       "      <th>PAY_AMT4</th>\n",
       "      <th>PAY_AMT5</th>\n",
       "      <th>PAY_AMT6</th>\n",
       "      <th>DEFAULTER</th>\n",
       "    </tr>\n",
       "    <tr>\n",
       "      <th>Variable</th>\n",
       "      <th></th>\n",
       "      <th></th>\n",
       "      <th></th>\n",
       "      <th></th>\n",
       "      <th></th>\n",
       "      <th></th>\n",
       "      <th></th>\n",
       "      <th></th>\n",
       "      <th></th>\n",
       "      <th></th>\n",
       "      <th></th>\n",
       "      <th></th>\n",
       "      <th></th>\n",
       "      <th></th>\n",
       "      <th></th>\n",
       "      <th></th>\n",
       "      <th></th>\n",
       "      <th></th>\n",
       "      <th></th>\n",
       "      <th></th>\n",
       "      <th></th>\n",
       "      <th></th>\n",
       "      <th></th>\n",
       "      <th></th>\n",
       "    </tr>\n",
       "  </thead>\n",
       "  <tbody>\n",
       "    <tr>\n",
       "      <td>1</td>\n",
       "      <td>20000</td>\n",
       "      <td>2</td>\n",
       "      <td>2</td>\n",
       "      <td>1</td>\n",
       "      <td>24</td>\n",
       "      <td>2</td>\n",
       "      <td>2</td>\n",
       "      <td>-1</td>\n",
       "      <td>-1</td>\n",
       "      <td>-2</td>\n",
       "      <td>-2</td>\n",
       "      <td>3913</td>\n",
       "      <td>3102</td>\n",
       "      <td>689</td>\n",
       "      <td>0</td>\n",
       "      <td>0</td>\n",
       "      <td>0</td>\n",
       "      <td>0</td>\n",
       "      <td>689</td>\n",
       "      <td>0</td>\n",
       "      <td>0</td>\n",
       "      <td>0</td>\n",
       "      <td>0</td>\n",
       "      <td>1</td>\n",
       "    </tr>\n",
       "    <tr>\n",
       "      <td>2</td>\n",
       "      <td>120000</td>\n",
       "      <td>2</td>\n",
       "      <td>2</td>\n",
       "      <td>2</td>\n",
       "      <td>26</td>\n",
       "      <td>-1</td>\n",
       "      <td>2</td>\n",
       "      <td>0</td>\n",
       "      <td>0</td>\n",
       "      <td>0</td>\n",
       "      <td>2</td>\n",
       "      <td>2682</td>\n",
       "      <td>1725</td>\n",
       "      <td>2682</td>\n",
       "      <td>3272</td>\n",
       "      <td>3455</td>\n",
       "      <td>3261</td>\n",
       "      <td>0</td>\n",
       "      <td>1000</td>\n",
       "      <td>1000</td>\n",
       "      <td>1000</td>\n",
       "      <td>0</td>\n",
       "      <td>2000</td>\n",
       "      <td>1</td>\n",
       "    </tr>\n",
       "    <tr>\n",
       "      <td>3</td>\n",
       "      <td>90000</td>\n",
       "      <td>2</td>\n",
       "      <td>2</td>\n",
       "      <td>2</td>\n",
       "      <td>34</td>\n",
       "      <td>0</td>\n",
       "      <td>0</td>\n",
       "      <td>0</td>\n",
       "      <td>0</td>\n",
       "      <td>0</td>\n",
       "      <td>0</td>\n",
       "      <td>29239</td>\n",
       "      <td>14027</td>\n",
       "      <td>13559</td>\n",
       "      <td>14331</td>\n",
       "      <td>14948</td>\n",
       "      <td>15549</td>\n",
       "      <td>1518</td>\n",
       "      <td>1500</td>\n",
       "      <td>1000</td>\n",
       "      <td>1000</td>\n",
       "      <td>1000</td>\n",
       "      <td>5000</td>\n",
       "      <td>0</td>\n",
       "    </tr>\n",
       "    <tr>\n",
       "      <td>4</td>\n",
       "      <td>50000</td>\n",
       "      <td>2</td>\n",
       "      <td>2</td>\n",
       "      <td>1</td>\n",
       "      <td>37</td>\n",
       "      <td>0</td>\n",
       "      <td>0</td>\n",
       "      <td>0</td>\n",
       "      <td>0</td>\n",
       "      <td>0</td>\n",
       "      <td>0</td>\n",
       "      <td>46990</td>\n",
       "      <td>48233</td>\n",
       "      <td>49291</td>\n",
       "      <td>28314</td>\n",
       "      <td>28959</td>\n",
       "      <td>29547</td>\n",
       "      <td>2000</td>\n",
       "      <td>2019</td>\n",
       "      <td>1200</td>\n",
       "      <td>1100</td>\n",
       "      <td>1069</td>\n",
       "      <td>1000</td>\n",
       "      <td>0</td>\n",
       "    </tr>\n",
       "    <tr>\n",
       "      <td>5</td>\n",
       "      <td>50000</td>\n",
       "      <td>1</td>\n",
       "      <td>2</td>\n",
       "      <td>1</td>\n",
       "      <td>57</td>\n",
       "      <td>-1</td>\n",
       "      <td>0</td>\n",
       "      <td>-1</td>\n",
       "      <td>0</td>\n",
       "      <td>0</td>\n",
       "      <td>0</td>\n",
       "      <td>8617</td>\n",
       "      <td>5670</td>\n",
       "      <td>35835</td>\n",
       "      <td>20940</td>\n",
       "      <td>19146</td>\n",
       "      <td>19131</td>\n",
       "      <td>2000</td>\n",
       "      <td>36681</td>\n",
       "      <td>10000</td>\n",
       "      <td>9000</td>\n",
       "      <td>689</td>\n",
       "      <td>679</td>\n",
       "      <td>0</td>\n",
       "    </tr>\n",
       "  </tbody>\n",
       "</table>\n",
       "</div>"
      ],
      "text/plain": [
       "ID       LIMIT_BAL SEX EDUCATION MARRIAGE AGE PAY_0 PAY_2 PAY_3 PAY_4 PAY_5  \\\n",
       "Variable                                                                      \n",
       "1            20000   2         2        1  24     2     2    -1    -1    -2   \n",
       "2           120000   2         2        2  26    -1     2     0     0     0   \n",
       "3            90000   2         2        2  34     0     0     0     0     0   \n",
       "4            50000   2         2        1  37     0     0     0     0     0   \n",
       "5            50000   1         2        1  57    -1     0    -1     0     0   \n",
       "\n",
       "ID       PAY_6 BILL_AMT1 BILL_AMT2 BILL_AMT3 BILL_AMT4 BILL_AMT5 BILL_AMT6  \\\n",
       "Variable                                                                     \n",
       "1           -2      3913      3102       689         0         0         0   \n",
       "2            2      2682      1725      2682      3272      3455      3261   \n",
       "3            0     29239     14027     13559     14331     14948     15549   \n",
       "4            0     46990     48233     49291     28314     28959     29547   \n",
       "5            0      8617      5670     35835     20940     19146     19131   \n",
       "\n",
       "ID       PAY_AMT1 PAY_AMT2 PAY_AMT3 PAY_AMT4 PAY_AMT5 PAY_AMT6 DEFAULTER  \n",
       "Variable                                                                  \n",
       "1               0      689        0        0        0        0         1  \n",
       "2               0     1000     1000     1000        0     2000         1  \n",
       "3            1518     1500     1000     1000     1000     5000         0  \n",
       "4            2000     2019     1200     1100     1069     1000         0  \n",
       "5            2000    36681    10000     9000      689      679         0  "
      ]
     },
     "execution_count": 7,
     "metadata": {},
     "output_type": "execute_result"
    }
   ],
   "source": [
    "# look at the data with fixed header\n",
    "train.head()"
   ]
  },
  {
   "cell_type": "code",
   "execution_count": null,
   "metadata": {},
   "outputs": [],
   "source": [
    " "
   ]
  },
  {
   "cell_type": "code",
   "execution_count": 8,
   "metadata": {
    "_cell_guid": "42be5ccc-deeb-46c2-b2cc-8057c5d4099f",
    "_uuid": "e8a89da76116ef35d472aabd82db51e61a0c27ed"
   },
   "outputs": [
    {
     "data": {
      "text/html": [
       "<div>\n",
       "<style scoped>\n",
       "    .dataframe tbody tr th:only-of-type {\n",
       "        vertical-align: middle;\n",
       "    }\n",
       "\n",
       "    .dataframe tbody tr th {\n",
       "        vertical-align: top;\n",
       "    }\n",
       "\n",
       "    .dataframe thead th {\n",
       "        text-align: right;\n",
       "    }\n",
       "</style>\n",
       "<table border=\"1\" class=\"dataframe\">\n",
       "  <thead>\n",
       "    <tr style=\"text-align: right;\">\n",
       "      <th>ID</th>\n",
       "      <th>LIMIT_BAL</th>\n",
       "      <th>SEX</th>\n",
       "      <th>EDUCATION</th>\n",
       "      <th>MARRIAGE</th>\n",
       "      <th>AGE</th>\n",
       "      <th>PAY_0</th>\n",
       "      <th>PAY_2</th>\n",
       "      <th>PAY_3</th>\n",
       "      <th>PAY_4</th>\n",
       "      <th>PAY_5</th>\n",
       "      <th>PAY_6</th>\n",
       "      <th>BILL_AMT1</th>\n",
       "      <th>BILL_AMT2</th>\n",
       "      <th>BILL_AMT3</th>\n",
       "      <th>BILL_AMT4</th>\n",
       "      <th>BILL_AMT5</th>\n",
       "      <th>BILL_AMT6</th>\n",
       "      <th>PAY_AMT1</th>\n",
       "      <th>PAY_AMT2</th>\n",
       "      <th>PAY_AMT3</th>\n",
       "      <th>PAY_AMT4</th>\n",
       "      <th>PAY_AMT5</th>\n",
       "      <th>PAY_AMT6</th>\n",
       "    </tr>\n",
       "    <tr>\n",
       "      <th>Variable</th>\n",
       "      <th></th>\n",
       "      <th></th>\n",
       "      <th></th>\n",
       "      <th></th>\n",
       "      <th></th>\n",
       "      <th></th>\n",
       "      <th></th>\n",
       "      <th></th>\n",
       "      <th></th>\n",
       "      <th></th>\n",
       "      <th></th>\n",
       "      <th></th>\n",
       "      <th></th>\n",
       "      <th></th>\n",
       "      <th></th>\n",
       "      <th></th>\n",
       "      <th></th>\n",
       "      <th></th>\n",
       "      <th></th>\n",
       "      <th></th>\n",
       "      <th></th>\n",
       "      <th></th>\n",
       "      <th></th>\n",
       "    </tr>\n",
       "  </thead>\n",
       "  <tbody>\n",
       "    <tr>\n",
       "      <td>22501</td>\n",
       "      <td>180000</td>\n",
       "      <td>2</td>\n",
       "      <td>2</td>\n",
       "      <td>1</td>\n",
       "      <td>33</td>\n",
       "      <td>-1</td>\n",
       "      <td>-1</td>\n",
       "      <td>-1</td>\n",
       "      <td>-1</td>\n",
       "      <td>-1</td>\n",
       "      <td>-1</td>\n",
       "      <td>3490</td>\n",
       "      <td>0</td>\n",
       "      <td>1112</td>\n",
       "      <td>10383</td>\n",
       "      <td>1980</td>\n",
       "      <td>2672</td>\n",
       "      <td>0</td>\n",
       "      <td>1112</td>\n",
       "      <td>10383</td>\n",
       "      <td>1980</td>\n",
       "      <td>2672</td>\n",
       "      <td>2197</td>\n",
       "    </tr>\n",
       "    <tr>\n",
       "      <td>22502</td>\n",
       "      <td>230000</td>\n",
       "      <td>2</td>\n",
       "      <td>1</td>\n",
       "      <td>2</td>\n",
       "      <td>33</td>\n",
       "      <td>0</td>\n",
       "      <td>0</td>\n",
       "      <td>0</td>\n",
       "      <td>0</td>\n",
       "      <td>0</td>\n",
       "      <td>0</td>\n",
       "      <td>38646</td>\n",
       "      <td>40000</td>\n",
       "      <td>41354</td>\n",
       "      <td>42368</td>\n",
       "      <td>43161</td>\n",
       "      <td>45056</td>\n",
       "      <td>2000</td>\n",
       "      <td>2000</td>\n",
       "      <td>2000</td>\n",
       "      <td>1800</td>\n",
       "      <td>2600</td>\n",
       "      <td>2000</td>\n",
       "    </tr>\n",
       "    <tr>\n",
       "      <td>22503</td>\n",
       "      <td>50000</td>\n",
       "      <td>2</td>\n",
       "      <td>2</td>\n",
       "      <td>2</td>\n",
       "      <td>44</td>\n",
       "      <td>0</td>\n",
       "      <td>0</td>\n",
       "      <td>2</td>\n",
       "      <td>3</td>\n",
       "      <td>2</td>\n",
       "      <td>0</td>\n",
       "      <td>16094</td>\n",
       "      <td>18961</td>\n",
       "      <td>20857</td>\n",
       "      <td>20229</td>\n",
       "      <td>19623</td>\n",
       "      <td>19878</td>\n",
       "      <td>3155</td>\n",
       "      <td>2500</td>\n",
       "      <td>0</td>\n",
       "      <td>0</td>\n",
       "      <td>707</td>\n",
       "      <td>713</td>\n",
       "    </tr>\n",
       "    <tr>\n",
       "      <td>22504</td>\n",
       "      <td>260000</td>\n",
       "      <td>2</td>\n",
       "      <td>2</td>\n",
       "      <td>2</td>\n",
       "      <td>32</td>\n",
       "      <td>0</td>\n",
       "      <td>0</td>\n",
       "      <td>0</td>\n",
       "      <td>0</td>\n",
       "      <td>0</td>\n",
       "      <td>0</td>\n",
       "      <td>251330</td>\n",
       "      <td>256988</td>\n",
       "      <td>234260</td>\n",
       "      <td>227884</td>\n",
       "      <td>202178</td>\n",
       "      <td>198467</td>\n",
       "      <td>10000</td>\n",
       "      <td>9014</td>\n",
       "      <td>11002</td>\n",
       "      <td>7503</td>\n",
       "      <td>7502</td>\n",
       "      <td>7500</td>\n",
       "    </tr>\n",
       "    <tr>\n",
       "      <td>22505</td>\n",
       "      <td>260000</td>\n",
       "      <td>2</td>\n",
       "      <td>2</td>\n",
       "      <td>2</td>\n",
       "      <td>33</td>\n",
       "      <td>-1</td>\n",
       "      <td>-1</td>\n",
       "      <td>-1</td>\n",
       "      <td>-1</td>\n",
       "      <td>-1</td>\n",
       "      <td>0</td>\n",
       "      <td>5188</td>\n",
       "      <td>12357</td>\n",
       "      <td>28656</td>\n",
       "      <td>7497</td>\n",
       "      <td>7685</td>\n",
       "      <td>15434</td>\n",
       "      <td>13000</td>\n",
       "      <td>29022</td>\n",
       "      <td>7500</td>\n",
       "      <td>27769</td>\n",
       "      <td>12000</td>\n",
       "      <td>6200</td>\n",
       "    </tr>\n",
       "  </tbody>\n",
       "</table>\n",
       "</div>"
      ],
      "text/plain": [
       "ID       LIMIT_BAL SEX EDUCATION MARRIAGE AGE PAY_0 PAY_2 PAY_3 PAY_4 PAY_5  \\\n",
       "Variable                                                                      \n",
       "22501       180000   2         2        1  33    -1    -1    -1    -1    -1   \n",
       "22502       230000   2         1        2  33     0     0     0     0     0   \n",
       "22503        50000   2         2        2  44     0     0     2     3     2   \n",
       "22504       260000   2         2        2  32     0     0     0     0     0   \n",
       "22505       260000   2         2        2  33    -1    -1    -1    -1    -1   \n",
       "\n",
       "ID       PAY_6 BILL_AMT1 BILL_AMT2 BILL_AMT3 BILL_AMT4 BILL_AMT5 BILL_AMT6  \\\n",
       "Variable                                                                     \n",
       "22501       -1      3490         0      1112     10383      1980      2672   \n",
       "22502        0     38646     40000     41354     42368     43161     45056   \n",
       "22503        0     16094     18961     20857     20229     19623     19878   \n",
       "22504        0    251330    256988    234260    227884    202178    198467   \n",
       "22505        0      5188     12357     28656      7497      7685     15434   \n",
       "\n",
       "ID       PAY_AMT1 PAY_AMT2 PAY_AMT3 PAY_AMT4 PAY_AMT5 PAY_AMT6  \n",
       "Variable                                                        \n",
       "22501           0     1112    10383     1980     2672     2197  \n",
       "22502        2000     2000     2000     1800     2600     2000  \n",
       "22503        3155     2500        0        0      707      713  \n",
       "22504       10000     9014    11002     7503     7502     7500  \n",
       "22505       13000    29022     7500    27769    12000     6200  "
      ]
     },
     "execution_count": 8,
     "metadata": {},
     "output_type": "execute_result"
    }
   ],
   "source": [
    "test.head()"
   ]
  },
  {
   "cell_type": "code",
   "execution_count": null,
   "metadata": {},
   "outputs": [],
   "source": []
  },
  {
   "cell_type": "code",
   "execution_count": 9,
   "metadata": {},
   "outputs": [
    {
     "data": {
      "text/plain": [
       "(7500, 23)"
      ]
     },
     "execution_count": 9,
     "metadata": {},
     "output_type": "execute_result"
    }
   ],
   "source": [
    "test.shape"
   ]
  },
  {
   "cell_type": "code",
   "execution_count": 10,
   "metadata": {
    "_cell_guid": "0b307f51-4432-435c-bc83-9282053acec3",
    "_uuid": "dd1f1f1ed376cc87630c0a04a1a6534c716fe2f6"
   },
   "outputs": [
    {
     "data": {
      "text/plain": [
       "(False, False)"
      ]
     },
     "execution_count": 10,
     "metadata": {},
     "output_type": "execute_result"
    }
   ],
   "source": [
    "# Check for Null values in the datasets\n",
    "train.isnull().values.any(),test.isnull().values.any()"
   ]
  },
  {
   "cell_type": "markdown",
   "metadata": {
    "_cell_guid": "9178c0b0-3867-4a46-b44e-ff2d3617d985",
    "_uuid": "14be24d3c0c13d08c5a4497f4c473bdc53e0608d"
   },
   "source": [
    "- **DataSets do not have any Null values**"
   ]
  },
  {
   "cell_type": "markdown",
   "metadata": {
    "_cell_guid": "95614735-5668-499b-9aa2-fd7fcf6d1181",
    "_uuid": "87915da722da4a88874ce80a875f8ca7c2cb5556"
   },
   "source": [
    "- **Combine Train and Test Data set for further analysis & preprocessing**"
   ]
  },
  {
   "cell_type": "code",
   "execution_count": 11,
   "metadata": {
    "_cell_guid": "b91bfdbb-9212-4429-b831-746398814660",
    "_uuid": "c8951b925b797464308d1d8cfc0f8e073a6bbcf3"
   },
   "outputs": [],
   "source": [
    "# Combine Train and Test Data set for further analysis & preprocessing\n",
    "train['Type'] = 'Train'\n",
    "test['Type'] = 'Test'\n",
    "fulldata = pd.concat([train,test],axis=0) "
   ]
  },
  {
   "cell_type": "code",
   "execution_count": 12,
   "metadata": {
    "_cell_guid": "831ab257-bb13-4b9f-8d37-bcf97ffbd7dc",
    "_uuid": "928a30ff77f4033a35f5da4cecffbef8d8d1794b"
   },
   "outputs": [],
   "source": [
    "#fulldata.shape"
   ]
  },
  {
   "cell_type": "code",
   "execution_count": 13,
   "metadata": {
    "_cell_guid": "f64cbd74-ccbe-423d-81b3-451cbdac97b9",
    "_uuid": "786c04312dc77e2972c6dbd0a3e81c5aea6d357b"
   },
   "outputs": [
    {
     "data": {
      "text/html": [
       "<div>\n",
       "<style scoped>\n",
       "    .dataframe tbody tr th:only-of-type {\n",
       "        vertical-align: middle;\n",
       "    }\n",
       "\n",
       "    .dataframe tbody tr th {\n",
       "        vertical-align: top;\n",
       "    }\n",
       "\n",
       "    .dataframe thead th {\n",
       "        text-align: right;\n",
       "    }\n",
       "</style>\n",
       "<table border=\"1\" class=\"dataframe\">\n",
       "  <thead>\n",
       "    <tr style=\"text-align: right;\">\n",
       "      <th></th>\n",
       "      <th>AGE</th>\n",
       "      <th>BILL_AMT1</th>\n",
       "      <th>BILL_AMT2</th>\n",
       "      <th>BILL_AMT3</th>\n",
       "      <th>BILL_AMT4</th>\n",
       "      <th>BILL_AMT5</th>\n",
       "      <th>BILL_AMT6</th>\n",
       "      <th>DEFAULTER</th>\n",
       "      <th>EDUCATION</th>\n",
       "      <th>LIMIT_BAL</th>\n",
       "      <th>MARRIAGE</th>\n",
       "      <th>PAY_0</th>\n",
       "      <th>PAY_2</th>\n",
       "      <th>PAY_3</th>\n",
       "      <th>PAY_4</th>\n",
       "      <th>PAY_5</th>\n",
       "      <th>PAY_6</th>\n",
       "      <th>PAY_AMT1</th>\n",
       "      <th>PAY_AMT2</th>\n",
       "      <th>PAY_AMT3</th>\n",
       "      <th>PAY_AMT4</th>\n",
       "      <th>PAY_AMT5</th>\n",
       "      <th>PAY_AMT6</th>\n",
       "      <th>SEX</th>\n",
       "      <th>Type</th>\n",
       "    </tr>\n",
       "  </thead>\n",
       "  <tbody>\n",
       "    <tr>\n",
       "      <td>count</td>\n",
       "      <td>30000</td>\n",
       "      <td>30000</td>\n",
       "      <td>30000</td>\n",
       "      <td>30000</td>\n",
       "      <td>30000</td>\n",
       "      <td>30000</td>\n",
       "      <td>30000</td>\n",
       "      <td>22500</td>\n",
       "      <td>30000</td>\n",
       "      <td>30000</td>\n",
       "      <td>30000</td>\n",
       "      <td>30000</td>\n",
       "      <td>30000</td>\n",
       "      <td>30000</td>\n",
       "      <td>30000</td>\n",
       "      <td>30000</td>\n",
       "      <td>30000</td>\n",
       "      <td>30000</td>\n",
       "      <td>30000</td>\n",
       "      <td>30000</td>\n",
       "      <td>30000</td>\n",
       "      <td>30000</td>\n",
       "      <td>30000</td>\n",
       "      <td>30000</td>\n",
       "      <td>30000</td>\n",
       "    </tr>\n",
       "    <tr>\n",
       "      <td>unique</td>\n",
       "      <td>56</td>\n",
       "      <td>22723</td>\n",
       "      <td>22346</td>\n",
       "      <td>22026</td>\n",
       "      <td>21548</td>\n",
       "      <td>21010</td>\n",
       "      <td>20604</td>\n",
       "      <td>2</td>\n",
       "      <td>7</td>\n",
       "      <td>81</td>\n",
       "      <td>4</td>\n",
       "      <td>11</td>\n",
       "      <td>11</td>\n",
       "      <td>11</td>\n",
       "      <td>11</td>\n",
       "      <td>10</td>\n",
       "      <td>10</td>\n",
       "      <td>7943</td>\n",
       "      <td>7899</td>\n",
       "      <td>7518</td>\n",
       "      <td>6937</td>\n",
       "      <td>6897</td>\n",
       "      <td>6939</td>\n",
       "      <td>2</td>\n",
       "      <td>2</td>\n",
       "    </tr>\n",
       "    <tr>\n",
       "      <td>top</td>\n",
       "      <td>29</td>\n",
       "      <td>0</td>\n",
       "      <td>0</td>\n",
       "      <td>0</td>\n",
       "      <td>0</td>\n",
       "      <td>0</td>\n",
       "      <td>0</td>\n",
       "      <td>0</td>\n",
       "      <td>2</td>\n",
       "      <td>50000</td>\n",
       "      <td>2</td>\n",
       "      <td>0</td>\n",
       "      <td>0</td>\n",
       "      <td>0</td>\n",
       "      <td>0</td>\n",
       "      <td>0</td>\n",
       "      <td>0</td>\n",
       "      <td>0</td>\n",
       "      <td>0</td>\n",
       "      <td>0</td>\n",
       "      <td>0</td>\n",
       "      <td>0</td>\n",
       "      <td>0</td>\n",
       "      <td>2</td>\n",
       "      <td>Train</td>\n",
       "    </tr>\n",
       "    <tr>\n",
       "      <td>freq</td>\n",
       "      <td>1605</td>\n",
       "      <td>2008</td>\n",
       "      <td>2506</td>\n",
       "      <td>2870</td>\n",
       "      <td>3195</td>\n",
       "      <td>3506</td>\n",
       "      <td>4020</td>\n",
       "      <td>17412</td>\n",
       "      <td>14030</td>\n",
       "      <td>3365</td>\n",
       "      <td>15964</td>\n",
       "      <td>14737</td>\n",
       "      <td>15730</td>\n",
       "      <td>15764</td>\n",
       "      <td>16455</td>\n",
       "      <td>16947</td>\n",
       "      <td>16286</td>\n",
       "      <td>5249</td>\n",
       "      <td>5396</td>\n",
       "      <td>5968</td>\n",
       "      <td>6408</td>\n",
       "      <td>6703</td>\n",
       "      <td>7173</td>\n",
       "      <td>18112</td>\n",
       "      <td>22500</td>\n",
       "    </tr>\n",
       "  </tbody>\n",
       "</table>\n",
       "</div>"
      ],
      "text/plain": [
       "          AGE BILL_AMT1 BILL_AMT2 BILL_AMT3 BILL_AMT4 BILL_AMT5 BILL_AMT6  \\\n",
       "count   30000     30000     30000     30000     30000     30000     30000   \n",
       "unique     56     22723     22346     22026     21548     21010     20604   \n",
       "top        29         0         0         0         0         0         0   \n",
       "freq     1605      2008      2506      2870      3195      3506      4020   \n",
       "\n",
       "       DEFAULTER EDUCATION LIMIT_BAL MARRIAGE  PAY_0  PAY_2  PAY_3  PAY_4  \\\n",
       "count      22500     30000     30000    30000  30000  30000  30000  30000   \n",
       "unique         2         7        81        4     11     11     11     11   \n",
       "top            0         2     50000        2      0      0      0      0   \n",
       "freq       17412     14030      3365    15964  14737  15730  15764  16455   \n",
       "\n",
       "        PAY_5  PAY_6 PAY_AMT1 PAY_AMT2 PAY_AMT3 PAY_AMT4 PAY_AMT5 PAY_AMT6  \\\n",
       "count   30000  30000    30000    30000    30000    30000    30000    30000   \n",
       "unique     10     10     7943     7899     7518     6937     6897     6939   \n",
       "top         0      0        0        0        0        0        0        0   \n",
       "freq    16947  16286     5249     5396     5968     6408     6703     7173   \n",
       "\n",
       "          SEX   Type  \n",
       "count   30000  30000  \n",
       "unique      2      2  \n",
       "top         2  Train  \n",
       "freq    18112  22500  "
      ]
     },
     "execution_count": 13,
     "metadata": {},
     "output_type": "execute_result"
    }
   ],
   "source": [
    "fulldata.describe()"
   ]
  },
  {
   "cell_type": "code",
   "execution_count": 14,
   "metadata": {},
   "outputs": [
    {
     "data": {
      "text/plain": [
       "(30000, 25)"
      ]
     },
     "execution_count": 14,
     "metadata": {},
     "output_type": "execute_result"
    }
   ],
   "source": [
    "fulldata.shape"
   ]
  },
  {
   "cell_type": "markdown",
   "metadata": {
    "_cell_guid": "a852bce1-75e1-4ac2-a405-8619cfb18b1a",
    "_uuid": "063d6ac9c52519f90cbf115a9de0a03baeebd94c"
   },
   "source": [
    "- **From Above Table we can deduce that some columns have extra values which might not be correct According to the Description given i.e.**\n",
    " - EDUCATION has 7 unique values instead of 4\n",
    " - MARRIAGE has 4 unique values instead of 3"
   ]
  },
  {
   "cell_type": "code",
   "execution_count": 15,
   "metadata": {
    "_cell_guid": "0d842f19-344a-44c2-b204-f550bbc36f06",
    "_uuid": "5960813cb80d4d599bda9a08ffad0622d62c04fa"
   },
   "outputs": [
    {
     "data": {
      "text/plain": [
       "2    14030\n",
       "1    10585\n",
       "3     4917\n",
       "5      280\n",
       "4      123\n",
       "6       51\n",
       "0       14\n",
       "Name: EDUCATION, dtype: int64"
      ]
     },
     "execution_count": 15,
     "metadata": {},
     "output_type": "execute_result"
    }
   ],
   "source": [
    "fulldata.EDUCATION.value_counts()"
   ]
  },
  {
   "cell_type": "markdown",
   "metadata": {
    "_cell_guid": "a16ecbc1-c83b-4edd-97ef-1a69358610ac",
    "_uuid": "fd1678d8559ea7cb9b1b6611bdf26774d9986edd"
   },
   "source": [
    "- **According to description we should have values 1,2,3,4 thus we will change 5,6,0 to 4 i.e. others**"
   ]
  },
  {
   "cell_type": "code",
   "execution_count": 16,
   "metadata": {
    "_cell_guid": "1f84d83b-91fc-40ab-9cec-7bf91bbffe4e",
    "_uuid": "56e72acea0a40ea83afd829e6202da973adafa3b"
   },
   "outputs": [
    {
     "data": {
      "text/plain": [
       "array(['2', '1', '3', '4'], dtype=object)"
      ]
     },
     "execution_count": 16,
     "metadata": {},
     "output_type": "execute_result"
    }
   ],
   "source": [
    "fulldata.EDUCATION[fulldata.EDUCATION=='0']='4'\n",
    "fulldata.EDUCATION[fulldata.EDUCATION=='5']='4'\n",
    "fulldata.EDUCATION[fulldata.EDUCATION=='6']='4'\n",
    "fulldata.EDUCATION.unique()"
   ]
  },
  {
   "cell_type": "code",
   "execution_count": 17,
   "metadata": {
    "_cell_guid": "5539ecef-d362-4331-9165-8a2a2fba4ec8",
    "_uuid": "26c9adb37185caa15a6ddcba319e535b9766e34e"
   },
   "outputs": [
    {
     "data": {
      "text/plain": [
       "2    15964\n",
       "1    13659\n",
       "3      323\n",
       "0       54\n",
       "Name: MARRIAGE, dtype: int64"
      ]
     },
     "execution_count": 17,
     "metadata": {},
     "output_type": "execute_result"
    }
   ],
   "source": [
    "fulldata.MARRIAGE.value_counts()"
   ]
  },
  {
   "cell_type": "markdown",
   "metadata": {
    "_cell_guid": "a7b0510d-8ec1-4bd1-a2ed-e3533d33f8e6",
    "_uuid": "adcf47e1a549944a777565ce35e9aa80aec054f2"
   },
   "source": [
    "- **According to description we should have values 1,2,3 thus we will change 0 to 3 i.e. others**"
   ]
  },
  {
   "cell_type": "code",
   "execution_count": 18,
   "metadata": {
    "_cell_guid": "56eadede-05da-439f-bc96-c5762e6a1658",
    "_uuid": "b764737025398312287c90a376059f2b6938012f"
   },
   "outputs": [
    {
     "data": {
      "text/plain": [
       "array(['1', '2', '3'], dtype=object)"
      ]
     },
     "execution_count": 18,
     "metadata": {},
     "output_type": "execute_result"
    }
   ],
   "source": [
    "fulldata.MARRIAGE[fulldata.MARRIAGE=='0']='3'\n",
    "fulldata.MARRIAGE.unique()"
   ]
  },
  {
   "cell_type": "code",
   "execution_count": 19,
   "metadata": {
    "_cell_guid": "ba21ee13-ee0f-41d5-b2f9-228337d4dfa7",
    "_uuid": "a43022f97bb2f76c7b5c3654d616ded7604811ca"
   },
   "outputs": [
    {
     "data": {
      "text/plain": [
       "array(['2', '1'], dtype=object)"
      ]
     },
     "execution_count": 19,
     "metadata": {},
     "output_type": "execute_result"
    }
   ],
   "source": [
    "fulldata.SEX.unique()"
   ]
  },
  {
   "cell_type": "code",
   "execution_count": 20,
   "metadata": {
    "_cell_guid": "a9c262c9-c93f-4371-82b2-d849cea8bdda",
    "_uuid": "004395288585c8435b866663731baa241baf91da"
   },
   "outputs": [],
   "source": [
    "# Check for values less than 0\n",
    "#(fulldata.AGE[fulldata.AGE<0].count(),fulldata.LIMIT_BAL[fulldata.LIMIT_BAL<0].count())"
   ]
  },
  {
   "cell_type": "code",
   "execution_count": 21,
   "metadata": {
    "_cell_guid": "339a5460-2596-435b-8025-17f5a3024af2",
    "_uuid": "d5fe04dfa6708020663bb33ac71fd4f64bd6ca8d"
   },
   "outputs": [],
   "source": [
    "# Split back the combined data to train & test\n",
    "train=fulldata[fulldata['Type']=='Train']\n",
    "test=fulldata[fulldata['Type']=='Test']"
   ]
  },
  {
   "cell_type": "code",
   "execution_count": 22,
   "metadata": {
    "_cell_guid": "31e92062-6b38-405d-b823-3e89c2b0db66",
    "_uuid": "15ba1ad77be6efecb3848929869198e748666289"
   },
   "outputs": [],
   "source": [
    "# drop the non numeric column\n",
    "train.drop(['Type'],axis = 1, inplace=True)\n",
    "test.drop(['Type'],axis = 1, inplace=True)\n",
    "\n",
    "# Change variables to type float\n",
    "train = train.astype(float)\n",
    "test = test.astype(float)"
   ]
  },
  {
   "cell_type": "markdown",
   "metadata": {
    "_cell_guid": "63cc43da-9e4c-4b58-bdcf-fe659f07a156",
    "_uuid": "a7ca27a71b730536e9dd8a829777d737cb323df0"
   },
   "source": [
    "# 2. Exploratory Data Analysis and Visualization"
   ]
  },
  {
   "cell_type": "code",
   "execution_count": 23,
   "metadata": {
    "_cell_guid": "8cdd122a-6cfe-4fbc-971d-b3e663eda3db",
    "_uuid": "feb1c1cc9e1fa1fed3ccaace9b6849fbfd869de5"
   },
   "outputs": [
    {
     "data": {
      "text/plain": [
       "22.613333333333333"
      ]
     },
     "execution_count": 23,
     "metadata": {},
     "output_type": "execute_result"
    }
   ],
   "source": [
    "train.DEFAULTER.mean()*100"
   ]
  },
  {
   "cell_type": "code",
   "execution_count": 24,
   "metadata": {},
   "outputs": [
    {
     "name": "stdout",
     "output_type": "stream",
     "text": [
      "Class 0: 17412\n",
      "Class 1: 5088\n",
      "Proportion: 3.42 : 1\n"
     ]
    },
    {
     "data": {
      "image/png": "[encoded data removed]",
      "text/plain": [
       "<Figure size 432x288 with 1 Axes>"
      ]
     },
     "metadata": {
      "needs_background": "light"
     },
     "output_type": "display_data"
    }
   ],
   "source": [
    "DEFAULTER_count = train.DEFAULTER.value_counts()\n",
    "print('Class 0:', DEFAULTER_count[0])\n",
    "print('Class 1:', DEFAULTER_count[1])\n",
    "print('Proportion:', round(DEFAULTER_count[0] / DEFAULTER_count[1], 2), ': 1')\n",
    "\n",
    "DEFAULTER_count.plot(kind='bar', title='Count (DEFAULTER)');"
   ]
  },
  {
   "cell_type": "markdown",
   "metadata": {
    "_cell_guid": "8d264e2e-e787-4955-b3d3-a399bb0f282c",
    "_uuid": "717468f14b4dbf9ab8cd97d62bcea5b2ad8be243"
   },
   "source": [
    "- 22.61 % of people are defaulters in the Train data"
   ]
  },
  {
   "cell_type": "markdown",
   "metadata": {
    "_cell_guid": "cf44fc56-339e-4873-a0ac-515e7a79c85d",
    "_uuid": "c7aff2938e615959809289097300d3f32ccd2961"
   },
   "source": [
    "### Visualize Data with t-SNE\n",
    "\n",
    "t-SNE is a technique for dimensionality reduction that is well suited to visualise high-dimensional datasets. Lets have a first look on the map that will set some expectations for the prediction accuracy i.e. if our dataset has many overlaps it would be good if our model achieves an accuracy of 60-70%.!"
   ]
  },
  {
   "cell_type": "code",
   "execution_count": 25,
   "metadata": {
    "_cell_guid": "cf33a35d-a34f-405e-8ed9-63e6a7a5684c",
    "_uuid": "be941ef11157c78f4270a4375f95ecfdb13e6d97"
   },
   "outputs": [
    {
     "name": "stdout",
     "output_type": "stream",
     "text": [
      "Class 0: 1000\n",
      "Class 1: 1000\n",
      "Proportion: 1.0 : 1\n"
     ]
    },
    {
     "data": {
      "image/png": "[encoded data removed]",
      "text/plain": [
       "<Figure size 432x288 with 1 Axes>"
      ]
     },
     "metadata": {
      "needs_background": "light"
     },
     "output_type": "display_data"
    }
   ],
   "source": [
    "#Set df4 equal to a set of a sample of 1000 deafault and 1000 non-default observations.\n",
    "df2 = train[train.DEFAULTER == 0].sample(n = 1000)\n",
    "df3 = train[train.DEFAULTER == 1].sample(n = 1000)\n",
    "df4 = pd.concat([df2, df3], axis = 0)\n",
    "\n",
    "#Scale features to improve the training ability of TSNE.\n",
    "standard_scaler = StandardScaler()\n",
    "df4_std = standard_scaler.fit_transform(df4)\n",
    "\n",
    "#Set y equal to the target values.\n",
    "y = df4.DEFAULTER\n",
    "\n",
    "tsne = TSNE(n_components=2, random_state=0)\n",
    "x_test_2d = tsne.fit_transform(df4_std)\n",
    "\n",
    "DEFAULTER_count = y.value_counts()\n",
    "print('Class 0:', DEFAULTER_count[0])\n",
    "print('Class 1:', DEFAULTER_count[1])\n",
    "print('Proportion:', round(DEFAULTER_count[0] / DEFAULTER_count[1], 2), ': 1')\n",
    "DEFAULTER_count.plot(kind='bar', title='Count (DEFAULTER)');\n"
   ]
  },
  {
   "cell_type": "code",
   "execution_count": null,
   "metadata": {},
   "outputs": [],
   "source": [
    "\n",
    "\n",
    "                                                                                                                                                                                                                                                                                                                                                                                                                                                                                                                                                                                                                                                                                                                                                                                                                                                                                                                                                                                                                                                                                                                                                                                                                                                                                                                                                                                                                                                                                                                                                                                                                                                                                                                                                                                                                                                                                                                                                                                                                                                                                                                                                                                                                                                                                                                                                                                                                                                                                                                                                                                                                                                                                                                                                                                                                                                                                                                                                                                                                                                                                                                                                                                                               "
   ]
  },
  {
   "cell_type": "markdown",
   "metadata": {
    "_cell_guid": "9cb3ecd5-92de-4ce5-8e49-14fa2b0f0c03",
    "_uuid": "3cc3cb4b04df40c50704fee886c6943a08bca24e"
   },
   "source": [
    "**The plot reveals a rather mixed up dataset which means we should not expect very accurate model.**"
   ]
  },
  {
   "cell_type": "markdown",
   "metadata": {
    "_cell_guid": "94895782-28c5-45cb-b4e5-25f2adef0718",
    "_uuid": "32798cb4ffc8c493751b7974d1e9de7e1853f85e"
   },
   "source": [
    "- **Now let us check the correlation between different features**"
   ]
  },
  {
   "cell_type": "code",
   "execution_count": 26,
   "metadata": {
    "_cell_guid": "06d560e7-7ff1-4bc2-abe2-94fe8471b8ef",
    "_uuid": "c3d6ef3f60f0507d6da3d2e7b9c7cf4a46c6a1eb",
    "scrolled": false
   },
   "outputs": [
    {
     "data": {
      "text/plain": [
       "<matplotlib.axes._subplots.AxesSubplot at 0x1d0475dc608>"
      ]
     },
     "execution_count": 26,
     "metadata": {},
     "output_type": "execute_result"
    },
    {
     "data": {
      "image/png": "[encoded data removed]",
      "text/plain": [
       "<Figure size 1296x1296 with 2 Axes>"
      ]
     },
     "metadata": {
      "needs_background": "light"
     },
     "output_type": "display_data"
    }
   ],
   "source": [
    "cor = train.corr()\n",
    "plt.figure(figsize=(18,18))\n",
    "sns.heatmap(cor, cbar = True,  square = True, annot=True, fmt= '.2f',annot_kws={'size': 10},\n",
    "            xticklabels=cor.columns.values,\n",
    "            yticklabels=cor.columns.values)"
   ]
  },
  {
   "cell_type": "markdown",
   "metadata": {
    "_cell_guid": "09bd16c2-d077-4933-b3bb-52ab83f90047",
    "_uuid": "4c3b313a10a48dea1bf037f2843537350a83da6c"
   },
   "source": [
    "Figure shows that 'BILL_AMTX' are highly correlated to each other, but very less correlation to target label 'DEFAULTER'. When data is huge to save computational resource, such features can be dropped without losing significant prediction power.\n",
    "\n",
    "Payment statuses 'PAY' show highest contribution to the defaulter label."
   ]
  },
  {
   "cell_type": "markdown",
   "metadata": {
    "_cell_guid": "e9e3fc87-cf94-434c-9169-2f9d9ebd47ae",
    "_uuid": "a38444f864c6819faff404c4eb2ae43361418d70"
   },
   "source": [
    "- **We can see above that PAY_0,PAY_2...have high positive correlation to DEFAULTER and LIMIT_BAL has pretty high negative correlation**"
   ]
  },
  {
   "cell_type": "markdown",
   "metadata": {
    "_cell_guid": "8c6c0bf4-3768-43a1-88d2-7ed6ee301491",
    "_uuid": "263b8509a1907cb03d530df7598aaa1687182db5"
   },
   "source": [
    "### Feature Engineering \n",
    "\n",
    "The regression coefficients are positive i.e. log-odds of defaulters increase as the ratio of  $\\left(\\frac{\\text{bill amount} - \\text{pay amount}}{\\text{credit limit}}\\right)$ increases. Hence we can add below 6 features."
   ]
  },
  {
   "cell_type": "code",
   "execution_count": 27,
   "metadata": {
    "_cell_guid": "5274aae8-466a-476a-856c-5aa84d5c5c1a",
    "_uuid": "5730697f04e56886c1b9f151a2cad1f29ed2bbea"
   },
   "outputs": [],
   "source": [
    "train['BILL_PAY_RATIO1'] = (train['BILL_AMT1']-train['PAY_AMT1'])/train['LIMIT_BAL']\n",
    "train['BILL_PAY_RATIO2'] = (train['BILL_AMT2']-train['PAY_AMT2'])/train['LIMIT_BAL']\n",
    "train['BILL_PAY_RATIO3'] = (train['BILL_AMT3']-train['PAY_AMT3'])/train['LIMIT_BAL']\n",
    "train['BILL_PAY_RATIO4'] = (train['BILL_AMT4']-train['PAY_AMT4'])/train['LIMIT_BAL']\n",
    "train['BILL_PAY_RATIO5'] = (train['BILL_AMT5']-train['PAY_AMT5'])/train['LIMIT_BAL']\n",
    "train['BILL_PAY_RATIO6'] = (train['BILL_AMT6']-train['PAY_AMT6'])/train['LIMIT_BAL']\n",
    "\n",
    "test['BILL_PAY_RATIO1'] = (test['BILL_AMT1']-test['PAY_AMT1'])/test['LIMIT_BAL']\n",
    "test['BILL_PAY_RATIO2'] = (test['BILL_AMT2']-test['PAY_AMT2'])/test['LIMIT_BAL']\n",
    "test['BILL_PAY_RATIO3'] = (test['BILL_AMT3']-test['PAY_AMT3'])/test['LIMIT_BAL']\n",
    "test['BILL_PAY_RATIO4'] = (test['BILL_AMT4']-test['PAY_AMT4'])/test['LIMIT_BAL']\n",
    "test['BILL_PAY_RATIO5'] = (test['BILL_AMT5']-test['PAY_AMT5'])/test['LIMIT_BAL']\n",
    "test['BILL_PAY_RATIO6'] = (test['BILL_AMT6']-test['PAY_AMT6'])/test['LIMIT_BAL']"
   ]
  },
  {
   "cell_type": "code",
   "execution_count": 28,
   "metadata": {
    "_cell_guid": "c08184a0-fc60-4cda-ba77-818129faf695",
    "_uuid": "6b4534763626c56ebb6b2b71e9701077af477e2d"
   },
   "outputs": [
    {
     "data": {
      "text/html": [
       "<div>\n",
       "<style scoped>\n",
       "    .dataframe tbody tr th:only-of-type {\n",
       "        vertical-align: middle;\n",
       "    }\n",
       "\n",
       "    .dataframe tbody tr th {\n",
       "        vertical-align: top;\n",
       "    }\n",
       "\n",
       "    .dataframe thead th {\n",
       "        text-align: right;\n",
       "    }\n",
       "</style>\n",
       "<table border=\"1\" class=\"dataframe\">\n",
       "  <thead>\n",
       "    <tr style=\"text-align: right;\">\n",
       "      <th></th>\n",
       "      <th>AGE</th>\n",
       "      <th>BILL_AMT1</th>\n",
       "      <th>BILL_AMT2</th>\n",
       "      <th>BILL_AMT3</th>\n",
       "      <th>BILL_AMT4</th>\n",
       "      <th>BILL_AMT5</th>\n",
       "      <th>BILL_AMT6</th>\n",
       "      <th>DEFAULTER</th>\n",
       "      <th>EDUCATION</th>\n",
       "      <th>LIMIT_BAL</th>\n",
       "      <th>MARRIAGE</th>\n",
       "      <th>PAY_0</th>\n",
       "      <th>PAY_2</th>\n",
       "      <th>PAY_3</th>\n",
       "      <th>PAY_4</th>\n",
       "      <th>PAY_5</th>\n",
       "      <th>PAY_6</th>\n",
       "      <th>PAY_AMT1</th>\n",
       "      <th>PAY_AMT2</th>\n",
       "      <th>PAY_AMT3</th>\n",
       "      <th>PAY_AMT4</th>\n",
       "      <th>PAY_AMT5</th>\n",
       "      <th>PAY_AMT6</th>\n",
       "      <th>SEX</th>\n",
       "      <th>BILL_PAY_RATIO1</th>\n",
       "      <th>BILL_PAY_RATIO2</th>\n",
       "      <th>BILL_PAY_RATIO3</th>\n",
       "      <th>BILL_PAY_RATIO4</th>\n",
       "      <th>BILL_PAY_RATIO5</th>\n",
       "      <th>BILL_PAY_RATIO6</th>\n",
       "    </tr>\n",
       "    <tr>\n",
       "      <th>Variable</th>\n",
       "      <th></th>\n",
       "      <th></th>\n",
       "      <th></th>\n",
       "      <th></th>\n",
       "      <th></th>\n",
       "      <th></th>\n",
       "      <th></th>\n",
       "      <th></th>\n",
       "      <th></th>\n",
       "      <th></th>\n",
       "      <th></th>\n",
       "      <th></th>\n",
       "      <th></th>\n",
       "      <th></th>\n",
       "      <th></th>\n",
       "      <th></th>\n",
       "      <th></th>\n",
       "      <th></th>\n",
       "      <th></th>\n",
       "      <th></th>\n",
       "      <th></th>\n",
       "      <th></th>\n",
       "      <th></th>\n",
       "      <th></th>\n",
       "      <th></th>\n",
       "      <th></th>\n",
       "      <th></th>\n",
       "      <th></th>\n",
       "      <th></th>\n",
       "      <th></th>\n",
       "    </tr>\n",
       "  </thead>\n",
       "  <tbody>\n",
       "    <tr>\n",
       "      <td>1</td>\n",
       "      <td>24.0</td>\n",
       "      <td>3913.0</td>\n",
       "      <td>3102.0</td>\n",
       "      <td>689.0</td>\n",
       "      <td>0.0</td>\n",
       "      <td>0.0</td>\n",
       "      <td>0.0</td>\n",
       "      <td>1.0</td>\n",
       "      <td>2.0</td>\n",
       "      <td>20000.0</td>\n",
       "      <td>1.0</td>\n",
       "      <td>2.0</td>\n",
       "      <td>2.0</td>\n",
       "      <td>-1.0</td>\n",
       "      <td>-1.0</td>\n",
       "      <td>-2.0</td>\n",
       "      <td>-2.0</td>\n",
       "      <td>0.0</td>\n",
       "      <td>689.0</td>\n",
       "      <td>0.0</td>\n",
       "      <td>0.0</td>\n",
       "      <td>0.0</td>\n",
       "      <td>0.0</td>\n",
       "      <td>2.0</td>\n",
       "      <td>0.195650</td>\n",
       "      <td>0.120650</td>\n",
       "      <td>0.034450</td>\n",
       "      <td>0.000000</td>\n",
       "      <td>0.000000</td>\n",
       "      <td>0.000000</td>\n",
       "    </tr>\n",
       "    <tr>\n",
       "      <td>2</td>\n",
       "      <td>26.0</td>\n",
       "      <td>2682.0</td>\n",
       "      <td>1725.0</td>\n",
       "      <td>2682.0</td>\n",
       "      <td>3272.0</td>\n",
       "      <td>3455.0</td>\n",
       "      <td>3261.0</td>\n",
       "      <td>1.0</td>\n",
       "      <td>2.0</td>\n",
       "      <td>120000.0</td>\n",
       "      <td>2.0</td>\n",
       "      <td>-1.0</td>\n",
       "      <td>2.0</td>\n",
       "      <td>0.0</td>\n",
       "      <td>0.0</td>\n",
       "      <td>0.0</td>\n",
       "      <td>2.0</td>\n",
       "      <td>0.0</td>\n",
       "      <td>1000.0</td>\n",
       "      <td>1000.0</td>\n",
       "      <td>1000.0</td>\n",
       "      <td>0.0</td>\n",
       "      <td>2000.0</td>\n",
       "      <td>2.0</td>\n",
       "      <td>0.022350</td>\n",
       "      <td>0.006042</td>\n",
       "      <td>0.014017</td>\n",
       "      <td>0.018933</td>\n",
       "      <td>0.028792</td>\n",
       "      <td>0.010508</td>\n",
       "    </tr>\n",
       "    <tr>\n",
       "      <td>3</td>\n",
       "      <td>34.0</td>\n",
       "      <td>29239.0</td>\n",
       "      <td>14027.0</td>\n",
       "      <td>13559.0</td>\n",
       "      <td>14331.0</td>\n",
       "      <td>14948.0</td>\n",
       "      <td>15549.0</td>\n",
       "      <td>0.0</td>\n",
       "      <td>2.0</td>\n",
       "      <td>90000.0</td>\n",
       "      <td>2.0</td>\n",
       "      <td>0.0</td>\n",
       "      <td>0.0</td>\n",
       "      <td>0.0</td>\n",
       "      <td>0.0</td>\n",
       "      <td>0.0</td>\n",
       "      <td>0.0</td>\n",
       "      <td>1518.0</td>\n",
       "      <td>1500.0</td>\n",
       "      <td>1000.0</td>\n",
       "      <td>1000.0</td>\n",
       "      <td>1000.0</td>\n",
       "      <td>5000.0</td>\n",
       "      <td>2.0</td>\n",
       "      <td>0.308011</td>\n",
       "      <td>0.139189</td>\n",
       "      <td>0.139544</td>\n",
       "      <td>0.148122</td>\n",
       "      <td>0.154978</td>\n",
       "      <td>0.117211</td>\n",
       "    </tr>\n",
       "    <tr>\n",
       "      <td>4</td>\n",
       "      <td>37.0</td>\n",
       "      <td>46990.0</td>\n",
       "      <td>48233.0</td>\n",
       "      <td>49291.0</td>\n",
       "      <td>28314.0</td>\n",
       "      <td>28959.0</td>\n",
       "      <td>29547.0</td>\n",
       "      <td>0.0</td>\n",
       "      <td>2.0</td>\n",
       "      <td>50000.0</td>\n",
       "      <td>1.0</td>\n",
       "      <td>0.0</td>\n",
       "      <td>0.0</td>\n",
       "      <td>0.0</td>\n",
       "      <td>0.0</td>\n",
       "      <td>0.0</td>\n",
       "      <td>0.0</td>\n",
       "      <td>2000.0</td>\n",
       "      <td>2019.0</td>\n",
       "      <td>1200.0</td>\n",
       "      <td>1100.0</td>\n",
       "      <td>1069.0</td>\n",
       "      <td>1000.0</td>\n",
       "      <td>2.0</td>\n",
       "      <td>0.899800</td>\n",
       "      <td>0.924280</td>\n",
       "      <td>0.961820</td>\n",
       "      <td>0.544280</td>\n",
       "      <td>0.557800</td>\n",
       "      <td>0.570940</td>\n",
       "    </tr>\n",
       "    <tr>\n",
       "      <td>5</td>\n",
       "      <td>57.0</td>\n",
       "      <td>8617.0</td>\n",
       "      <td>5670.0</td>\n",
       "      <td>35835.0</td>\n",
       "      <td>20940.0</td>\n",
       "      <td>19146.0</td>\n",
       "      <td>19131.0</td>\n",
       "      <td>0.0</td>\n",
       "      <td>2.0</td>\n",
       "      <td>50000.0</td>\n",
       "      <td>1.0</td>\n",
       "      <td>-1.0</td>\n",
       "      <td>0.0</td>\n",
       "      <td>-1.0</td>\n",
       "      <td>0.0</td>\n",
       "      <td>0.0</td>\n",
       "      <td>0.0</td>\n",
       "      <td>2000.0</td>\n",
       "      <td>36681.0</td>\n",
       "      <td>10000.0</td>\n",
       "      <td>9000.0</td>\n",
       "      <td>689.0</td>\n",
       "      <td>679.0</td>\n",
       "      <td>1.0</td>\n",
       "      <td>0.132340</td>\n",
       "      <td>-0.620220</td>\n",
       "      <td>0.516700</td>\n",
       "      <td>0.238800</td>\n",
       "      <td>0.369140</td>\n",
       "      <td>0.369040</td>\n",
       "    </tr>\n",
       "  </tbody>\n",
       "</table>\n",
       "</div>"
      ],
      "text/plain": [
       "           AGE  BILL_AMT1  BILL_AMT2  BILL_AMT3  BILL_AMT4  BILL_AMT5  \\\n",
       "Variable                                                                \n",
       "1         24.0     3913.0     3102.0      689.0        0.0        0.0   \n",
       "2         26.0     2682.0     1725.0     2682.0     3272.0     3455.0   \n",
       "3         34.0    29239.0    14027.0    13559.0    14331.0    14948.0   \n",
       "4         37.0    46990.0    48233.0    49291.0    28314.0    28959.0   \n",
       "5         57.0     8617.0     5670.0    35835.0    20940.0    19146.0   \n",
       "\n",
       "          BILL_AMT6  DEFAULTER  EDUCATION  LIMIT_BAL  MARRIAGE  PAY_0  PAY_2  \\\n",
       "Variable                                                                       \n",
       "1               0.0        1.0        2.0    20000.0       1.0    2.0    2.0   \n",
       "2            3261.0        1.0        2.0   120000.0       2.0   -1.0    2.0   \n",
       "3           15549.0        0.0        2.0    90000.0       2.0    0.0    0.0   \n",
       "4           29547.0        0.0        2.0    50000.0       1.0    0.0    0.0   \n",
       "5           19131.0        0.0        2.0    50000.0       1.0   -1.0    0.0   \n",
       "\n",
       "          PAY_3  PAY_4  PAY_5  PAY_6  PAY_AMT1  PAY_AMT2  PAY_AMT3  PAY_AMT4  \\\n",
       "Variable                                                                       \n",
       "1          -1.0   -1.0   -2.0   -2.0       0.0     689.0       0.0       0.0   \n",
       "2           0.0    0.0    0.0    2.0       0.0    1000.0    1000.0    1000.0   \n",
       "3           0.0    0.0    0.0    0.0    1518.0    1500.0    1000.0    1000.0   \n",
       "4           0.0    0.0    0.0    0.0    2000.0    2019.0    1200.0    1100.0   \n",
       "5          -1.0    0.0    0.0    0.0    2000.0   36681.0   10000.0    9000.0   \n",
       "\n",
       "          PAY_AMT5  PAY_AMT6  SEX  BILL_PAY_RATIO1  BILL_PAY_RATIO2  \\\n",
       "Variable                                                              \n",
       "1              0.0       0.0  2.0         0.195650         0.120650   \n",
       "2              0.0    2000.0  2.0         0.022350         0.006042   \n",
       "3           1000.0    5000.0  2.0         0.308011         0.139189   \n",
       "4           1069.0    1000.0  2.0         0.899800         0.924280   \n",
       "5            689.0     679.0  1.0         0.132340        -0.620220   \n",
       "\n",
       "          BILL_PAY_RATIO3  BILL_PAY_RATIO4  BILL_PAY_RATIO5  BILL_PAY_RATIO6  \n",
       "Variable                                                                      \n",
       "1                0.034450         0.000000         0.000000         0.000000  \n",
       "2                0.014017         0.018933         0.028792         0.010508  \n",
       "3                0.139544         0.148122         0.154978         0.117211  \n",
       "4                0.961820         0.544280         0.557800         0.570940  \n",
       "5                0.516700         0.238800         0.369140         0.369040  "
      ]
     },
     "execution_count": 28,
     "metadata": {},
     "output_type": "execute_result"
    }
   ],
   "source": [
    "train.head()"
   ]
  },
  {
   "cell_type": "code",
   "execution_count": 29,
   "metadata": {
    "_cell_guid": "bd2dd8cc-c324-450a-93ed-9b2ca923dc6b",
    "_uuid": "b28188e584ce341feac5d90994defa9c3c889706"
   },
   "outputs": [],
   "source": [
    "# function to make a bar plot\n",
    "def plot0(col1, col2, tittle, xticks, train):\n",
    "    dt = train.groupby(col1).agg([np.mean])*100.0\n",
    "    dt = dt[col2].reset_index()\n",
    "    f, ax = plt.subplots(figsize=(5, 5))\n",
    "    sns.barplot(x=col1, y=\"mean\", data=dt)\n",
    "    ax.set(xlabel=\"\", ylabel=\"Defaulter %\")\n",
    "    ax.set_title(label=tittle, fontsize=15)\n",
    "    ax.set_xticklabels(xticks, fontsize=11)"
   ]
  },
  {
   "cell_type": "markdown",
   "metadata": {
    "_cell_guid": "e68be198-3df7-4fb4-8939-b389f0ec2e5c",
    "_uuid": "59bf81cf168ea2ad401ae2a6807a9cdbb353d69b"
   },
   "source": [
    "## 1. Is the % of defaulters significantly different between male & female ?\n",
    "- _Below we plot the % of Defaulters by Gender._**Apparently we see that males are slightly more likely to default.**\n",
    "\n",
    "Observations:\n",
    "- Approximately 24.2% of the males defaulted.\n",
    "- Approximately 20.8% of the females defaulted."
   ]
  },
  {
   "cell_type": "code",
   "execution_count": 30,
   "metadata": {
    "_cell_guid": "f9d6137e-9ba4-4a1f-b63b-c83a44c801e6",
    "_uuid": "d1580c395d56c1729e4b2744e4a79d0726c5cb23"
   },
   "outputs": [
    {
     "data": {
      "text/html": [
       "<div>\n",
       "<style scoped>\n",
       "    .dataframe tbody tr th:only-of-type {\n",
       "        vertical-align: middle;\n",
       "    }\n",
       "\n",
       "    .dataframe tbody tr th {\n",
       "        vertical-align: top;\n",
       "    }\n",
       "\n",
       "    .dataframe thead th {\n",
       "        text-align: right;\n",
       "    }\n",
       "</style>\n",
       "<table border=\"1\" class=\"dataframe\">\n",
       "  <thead>\n",
       "    <tr style=\"text-align: right;\">\n",
       "      <th>SEX</th>\n",
       "      <th>Male</th>\n",
       "      <th>Female</th>\n",
       "      <th>All</th>\n",
       "    </tr>\n",
       "    <tr>\n",
       "      <th>DEFAULTER</th>\n",
       "      <th></th>\n",
       "      <th></th>\n",
       "      <th></th>\n",
       "    </tr>\n",
       "  </thead>\n",
       "  <tbody>\n",
       "    <tr>\n",
       "      <td>Non-default</td>\n",
       "      <td>0.753848</td>\n",
       "      <td>0.786656</td>\n",
       "      <td>0.773867</td>\n",
       "    </tr>\n",
       "    <tr>\n",
       "      <td>Default</td>\n",
       "      <td>0.246152</td>\n",
       "      <td>0.213344</td>\n",
       "      <td>0.226133</td>\n",
       "    </tr>\n",
       "    <tr>\n",
       "      <td>All</td>\n",
       "      <td>1.000000</td>\n",
       "      <td>1.000000</td>\n",
       "      <td>1.000000</td>\n",
       "    </tr>\n",
       "  </tbody>\n",
       "</table>\n",
       "</div>"
      ],
      "text/plain": [
       "SEX              Male    Female       All\n",
       "DEFAULTER                                \n",
       "Non-default  0.753848  0.786656  0.773867\n",
       "Default      0.246152  0.213344  0.226133\n",
       "All          1.000000  1.000000  1.000000"
      ]
     },
     "execution_count": 30,
     "metadata": {},
     "output_type": "execute_result"
    }
   ],
   "source": [
    "#Crosstab\n",
    "sex_crosstab = pd.crosstab(train['DEFAULTER'], train['SEX'], margins=True, normalize=False)\n",
    "new_index = {0: 'Non-default', 1: 'Default', }\n",
    "new_columns = {1 : 'Male', 2 : 'Female'}\n",
    "sex_crosstab.rename(index=new_index, columns=new_columns, inplace=True)\n",
    "sex_crosstab/sex_crosstab.loc['All']"
   ]
  },
  {
   "cell_type": "code",
   "execution_count": 31,
   "metadata": {
    "_cell_guid": "8dc176a5-1073-4db9-9101-4a7e0146dea8",
    "_uuid": "27faa6f992cb0a2322c0dea1afdfae00df226eb2"
   },
   "outputs": [
    {
     "data": {
      "image/png": "[encoded data removed]",
      "text/plain": [
       "<Figure size 360x360 with 1 Axes>"
      ]
     },
     "metadata": {
      "needs_background": "light"
     },
     "output_type": "display_data"
    }
   ],
   "source": [
    "#Bar Chart\n",
    "col1 = \"SEX\"\n",
    "col2 = \"DEFAULTER\"\n",
    "tittle = \"% of Defaulters by Sex\"\n",
    "xticks = [\"Male\", \"Female\"]\n",
    "plot0(col1, col2, tittle, xticks, train)"
   ]
  },
  {
   "cell_type": "markdown",
   "metadata": {
    "_cell_guid": "12e1005c-e01c-40b5-aaf3-5d9c74d17430",
    "_uuid": "373d7f4aafeec9fdae274722aae4838f873c585a"
   },
   "source": [
    "## 2. How does Marital Status effect the proportion of defaulters ?\n",
    "- _Below we plot the % of Defaulters by Marital Status._**We see that in the dataset Married people are slightly more likely to default.**\n",
    "\n",
    "Observations:\n",
    "- Approximately 24.2% of the Married people defaulted.\n",
    "- Approximately 21.2% of the Single people defaulted."
   ]
  },
  {
   "cell_type": "code",
   "execution_count": 32,
   "metadata": {
    "_cell_guid": "decf7d7b-1856-4b3f-9dc9-4ac26160f81a",
    "_uuid": "b3b631e743186db81b40230fee58c432b6dfed2f"
   },
   "outputs": [
    {
     "data": {
      "text/html": [
       "<div>\n",
       "<style scoped>\n",
       "    .dataframe tbody tr th:only-of-type {\n",
       "        vertical-align: middle;\n",
       "    }\n",
       "\n",
       "    .dataframe tbody tr th {\n",
       "        vertical-align: top;\n",
       "    }\n",
       "\n",
       "    .dataframe thead th {\n",
       "        text-align: right;\n",
       "    }\n",
       "</style>\n",
       "<table border=\"1\" class=\"dataframe\">\n",
       "  <thead>\n",
       "    <tr style=\"text-align: right;\">\n",
       "      <th>MARRIAGE</th>\n",
       "      <th>Married</th>\n",
       "      <th>Single</th>\n",
       "      <th>Others</th>\n",
       "      <th>All</th>\n",
       "    </tr>\n",
       "    <tr>\n",
       "      <th>DEFAULTER</th>\n",
       "      <th></th>\n",
       "      <th></th>\n",
       "      <th></th>\n",
       "      <th></th>\n",
       "    </tr>\n",
       "  </thead>\n",
       "  <tbody>\n",
       "    <tr>\n",
       "      <td>Non-default</td>\n",
       "      <td>0.757457</td>\n",
       "      <td>0.78738</td>\n",
       "      <td>0.769759</td>\n",
       "      <td>0.773867</td>\n",
       "    </tr>\n",
       "    <tr>\n",
       "      <td>Default</td>\n",
       "      <td>0.242543</td>\n",
       "      <td>0.21262</td>\n",
       "      <td>0.230241</td>\n",
       "      <td>0.226133</td>\n",
       "    </tr>\n",
       "    <tr>\n",
       "      <td>All</td>\n",
       "      <td>1.000000</td>\n",
       "      <td>1.00000</td>\n",
       "      <td>1.000000</td>\n",
       "      <td>1.000000</td>\n",
       "    </tr>\n",
       "  </tbody>\n",
       "</table>\n",
       "</div>"
      ],
      "text/plain": [
       "MARRIAGE      Married   Single    Others       All\n",
       "DEFAULTER                                         \n",
       "Non-default  0.757457  0.78738  0.769759  0.773867\n",
       "Default      0.242543  0.21262  0.230241  0.226133\n",
       "All          1.000000  1.00000  1.000000  1.000000"
      ]
     },
     "execution_count": 32,
     "metadata": {},
     "output_type": "execute_result"
    }
   ],
   "source": [
    "#Crosstab\n",
    "marital_crosstab = pd.crosstab(train['DEFAULTER'], train['MARRIAGE'], margins=True, normalize=False)\n",
    "new_index = {0: 'Non-default', 1: 'Default', }\n",
    "new_columns = {1 : 'Married', 2 : 'Single', 3:'Others'}\n",
    "marital_crosstab.rename(index=new_index, columns=new_columns, inplace=True)\n",
    "marital_crosstab/marital_crosstab.loc['All']"
   ]
  },
  {
   "cell_type": "code",
   "execution_count": 33,
   "metadata": {
    "_cell_guid": "cd2882c8-c40b-4a47-aeed-88fd884aead8",
    "_uuid": "94f00845652664ef3ed28624c69e4bc1a2b7df2a"
   },
   "outputs": [
    {
     "data": {
      "image/png": "[encoded data removed]",
      "text/plain": [
       "<Figure size 360x360 with 1 Axes>"
      ]
     },
     "metadata": {
      "needs_background": "light"
     },
     "output_type": "display_data"
    }
   ],
   "source": [
    "#Bar Chart\n",
    "col1 = \"MARRIAGE\"\n",
    "col2 = \"DEFAULTER\"\n",
    "tittle = \"% of Defaulters by Marital Status\"\n",
    "xticks = [\"Married\", \"Single\", \"Other\"]\n",
    "plot0(col1, col2, tittle, xticks, train)"
   ]
  },
  {
   "cell_type": "markdown",
   "metadata": {
    "_cell_guid": "24a10d0f-2a12-4679-a9a7-5b478675d4a1",
    "_uuid": "24f393a75391d05e633e7ce2ef9aaae221ee36b5"
   },
   "source": [
    "## 3. Does the Level of Education play a role in the % of defaulters ?**\n",
    "- _Below we plot the % of Defaulters by Education._**We can see that higher the education less likely is the person to default.**\n",
    "\n",
    "Observations:\n",
    "- Approximately 25.8% of defaulters studied upto High School.\n",
    "- Approximately 23.7% of defaulters studied upto University.\n",
    "- Approximately 19.7% of defaulters studied upto Graduate School."
   ]
  },
  {
   "cell_type": "code",
   "execution_count": 34,
   "metadata": {
    "_cell_guid": "6cd99fb2-9bf9-40c2-9cab-311e187163c0",
    "_uuid": "b1dbb172e703c1f29c90ca0d71ba8c5e2a8bd8f4"
   },
   "outputs": [
    {
     "data": {
      "text/html": [
       "<div>\n",
       "<style scoped>\n",
       "    .dataframe tbody tr th:only-of-type {\n",
       "        vertical-align: middle;\n",
       "    }\n",
       "\n",
       "    .dataframe tbody tr th {\n",
       "        vertical-align: top;\n",
       "    }\n",
       "\n",
       "    .dataframe thead th {\n",
       "        text-align: right;\n",
       "    }\n",
       "</style>\n",
       "<table border=\"1\" class=\"dataframe\">\n",
       "  <thead>\n",
       "    <tr style=\"text-align: right;\">\n",
       "      <th>EDUCATION</th>\n",
       "      <th>Graduate school</th>\n",
       "      <th>University</th>\n",
       "      <th>High school</th>\n",
       "      <th>Others</th>\n",
       "      <th>All</th>\n",
       "    </tr>\n",
       "    <tr>\n",
       "      <th>DEFAULTER</th>\n",
       "      <th></th>\n",
       "      <th></th>\n",
       "      <th></th>\n",
       "      <th></th>\n",
       "      <th></th>\n",
       "    </tr>\n",
       "  </thead>\n",
       "  <tbody>\n",
       "    <tr>\n",
       "      <td>Non-default</td>\n",
       "      <td>0.802681</td>\n",
       "      <td>0.758699</td>\n",
       "      <td>0.741134</td>\n",
       "      <td>0.933993</td>\n",
       "      <td>0.773867</td>\n",
       "    </tr>\n",
       "    <tr>\n",
       "      <td>Default</td>\n",
       "      <td>0.197319</td>\n",
       "      <td>0.241301</td>\n",
       "      <td>0.258866</td>\n",
       "      <td>0.066007</td>\n",
       "      <td>0.226133</td>\n",
       "    </tr>\n",
       "    <tr>\n",
       "      <td>All</td>\n",
       "      <td>1.000000</td>\n",
       "      <td>1.000000</td>\n",
       "      <td>1.000000</td>\n",
       "      <td>1.000000</td>\n",
       "      <td>1.000000</td>\n",
       "    </tr>\n",
       "  </tbody>\n",
       "</table>\n",
       "</div>"
      ],
      "text/plain": [
       "EDUCATION    Graduate school  University  High school    Others       All\n",
       "DEFAULTER                                                                \n",
       "Non-default         0.802681    0.758699     0.741134  0.933993  0.773867\n",
       "Default             0.197319    0.241301     0.258866  0.066007  0.226133\n",
       "All                 1.000000    1.000000     1.000000  1.000000  1.000000"
      ]
     },
     "execution_count": 34,
     "metadata": {},
     "output_type": "execute_result"
    }
   ],
   "source": [
    "#Crosstab\n",
    "education_crosstab = pd.crosstab(train['DEFAULTER'], train['EDUCATION'], margins=True, normalize=False)\n",
    "new_index = {0: 'Non-default', 1: 'Default', }\n",
    "new_columns = {1 : 'Graduate school', 2 : 'University', 3 : 'High school', 4 : 'Others'}\n",
    "education_crosstab.rename(index=new_index, columns=new_columns, inplace=True)\n",
    "education_crosstab/education_crosstab.loc['All']"
   ]
  },
  {
   "cell_type": "code",
   "execution_count": 35,
   "metadata": {
    "_cell_guid": "84829d0d-0e54-48b3-b6bb-1e732c11ead8",
    "_uuid": "724449b5192d02fa73b039d5a0a7ff65267a6752"
   },
   "outputs": [
    {
     "data": {
      "image/png": "[encoded data removed]",
      "text/plain": [
       "<Figure size 360x360 with 1 Axes>"
      ]
     },
     "metadata": {
      "needs_background": "light"
     },
     "output_type": "display_data"
    }
   ],
   "source": [
    "#Bar Chart\n",
    "col1 = \"EDUCATION\"\n",
    "col2 = \"DEFAULTER\"\n",
    "tittle = \"% of Defaulters by Education Level\"\n",
    "xticks = [\"Graduate\", \"University\", \"High school\", \"Others\"]\n",
    "plot0(col1, col2, tittle, xticks, train)"
   ]
  },
  {
   "cell_type": "markdown",
   "metadata": {
    "_cell_guid": "c0d54853-2ce2-4d50-9959-9919717c074c",
    "_uuid": "d3782e8e26ca03e02cc46967109c1fa31c3ad2b6"
   },
   "source": [
    "## 4. Which age group constitutes for higher proportion of defaulters ?\n",
    "- _Below we can see the Defaulters distribution by Age_ **Majority of defaulters fall in the age group of 25 to 35**\n",
    "\n",
    "\n",
    "Observations:\n",
    "- Defaulters seems to increase from the early 20s to the early 30s.\n",
    "- Defaulters seems to decrease from the early 40s onward."
   ]
  },
  {
   "cell_type": "code",
   "execution_count": 36,
   "metadata": {
    "_cell_guid": "f6779eb5-3966-426f-b01a-e5b61b61c785",
    "_uuid": "39ca163eed049ea8f106e19b087b0ed585046fb5"
   },
   "outputs": [
    {
     "data": {
      "image/png": "[encoded data removed]",
      "text/plain": [
       "<Figure size 864x432 with 1 Axes>"
      ]
     },
     "metadata": {
      "needs_background": "light"
     },
     "output_type": "display_data"
    }
   ],
   "source": [
    "defaulters = train[train[\"DEFAULTER\"] == 1]\n",
    "non_defaulters = train[train[\"DEFAULTER\"] == 0]\n",
    "defaulters[\"Defaulter\"] = defaulters[\"AGE\"]\n",
    "non_defaulters[\"Non Defaulter\"] = non_defaulters[\"AGE\"]\n",
    "f, ax = plt.subplots(figsize=(12, 6))\n",
    "ax = sns.kdeplot(defaulters[\"Defaulter\"], shade=True, color=\"r\")\n",
    "ax = sns.kdeplot(non_defaulters[\"Non Defaulter\"], shade=True, color=\"g\")"
   ]
  },
  {
   "cell_type": "markdown",
   "metadata": {
    "_cell_guid": "f84f59c5-77b8-4e30-a72e-47179895ef04",
    "_uuid": "f826b09b77843e740263b77d29f103586bd6a4c7"
   },
   "source": [
    "## 5. Is the number of defaulters correlated with credit limit ?\n",
    "- _Below we can see the Defaulters distribution by Credit Limit_ **we can see that people with lower credit balance tend to default more**"
   ]
  },
  {
   "cell_type": "code",
   "execution_count": 37,
   "metadata": {
    "_cell_guid": "c8297174-755f-4570-b7e5-be76ab13090c",
    "_uuid": "db3f306464fc88c7f63cf9a470129b72125f616e"
   },
   "outputs": [
    {
     "data": {
      "image/png": "[encoded data removed]",
      "text/plain": [
       "<Figure size 864x432 with 1 Axes>"
      ]
     },
     "metadata": {
      "needs_background": "light"
     },
     "output_type": "display_data"
    }
   ],
   "source": [
    "defaulters = train[train[\"DEFAULTER\"] == 1]\n",
    "non_defaulters = train[train[\"DEFAULTER\"] == 0]\n",
    "defaulters[\"Defaulter\"] = defaulters[\"LIMIT_BAL\"]\n",
    "non_defaulters[\"Non Defaulter\"] = non_defaulters[\"LIMIT_BAL\"]\n",
    "f, ax = plt.subplots(figsize=(12, 6))\n",
    "ax = sns.kdeplot(defaulters[\"Defaulter\"], shade=True, color=\"r\")\n",
    "ax = sns.kdeplot(non_defaulters[\"Non Defaulter\"], shade=True, color=\"b\")"
   ]
  },
  {
   "cell_type": "code",
   "execution_count": 38,
   "metadata": {
    "_cell_guid": "bb73a397-8aaa-4b08-ac38-b8338ba3b90f",
    "_uuid": "678f27a63fb506a855e124b3bf16d842cffd50fb"
   },
   "outputs": [],
   "source": [
    "# function to make a scatter plot\n",
    "def plot1(label_list, label_dict, data, col,tittle,xlabel,ylabel, ticks):\n",
    "  df = {}\n",
    "  for i in label_list:\n",
    "      df[i] = data.groupby([i, col]).size().unstack()\n",
    "      df[i] = df[i][df[i].sum(axis=1)>25]\n",
    "      df[i] = df[i].div(df[i].sum(axis=1), axis='index') # Calculate proportions\n",
    "      df[i].sort_index(ascending=False, inplace=True)\n",
    "          \n",
    "  sns.set_palette(sns.light_palette(\"red\", reverse=True))   # plot\n",
    "  fig, ax = plt.subplots(1, 1, figsize=(6,4))\n",
    "\n",
    "  for i in label_list:\n",
    "      ax.scatter(x=df[i].index, y=df[i][1], label=label_dict.get(i), s=100, edgecolor='k', lw=1)          \n",
    "\n",
    "  ax.set_ylim([0, 1])\n",
    "  plt.xticks(ticks, rotation=0)\n",
    "  ax.xaxis.set_ticks(ticks=ticks, minor=False)\n",
    "  ax.grid(b=True, which='major', color='0.4', linestyle='--')\n",
    "  lgd = plt.legend(loc='center left', bbox_to_anchor=(1.0, 0.5), fontsize=14)\n",
    "  for tick in ax.yaxis.get_major_ticks():\n",
    "      tick.label.set_fontsize(14) \n",
    "  for tick in ax.xaxis.get_major_ticks():\n",
    "      tick.label.set_fontsize(14) \n",
    "  for spine in ax.spines.values():\n",
    "      spine.set_edgecolor('k')\n",
    "  sns.set_palette(sns.light_palette(\"green\", reverse=True))\n",
    "  plt.title(tittle, fontsize=17, y = 1.05) \n",
    "  plt.ylabel(xlabel, fontsize=14)\n",
    "  plt.xlabel(ylabel, fontsize=14)\n",
    "  plt.show()"
   ]
  },
  {
   "cell_type": "markdown",
   "metadata": {
    "_cell_guid": "15ff43a4-165c-4914-945f-c74f3c47b490",
    "_uuid": "081fd2472985f73e468048e91df06c8b7a57dfe6"
   },
   "source": [
    "## 6. Is there a pattern in past repayment statuses which can help predict probability of a defaulter ?\n",
    "\n",
    "Observations:\n",
    "- The proportion of defaulters in delinquency bucket 2 or more i.e. with payment delay for 2 or more months are much higher."
   ]
  },
  {
   "cell_type": "code",
   "execution_count": 39,
   "metadata": {
    "_cell_guid": "d7f316d6-6925-48cb-b0c6-6e9f082d5fe8",
    "_uuid": "56fd9b1dfe22d2e35b7e010c903b73268a27d9ef"
   },
   "outputs": [
    {
     "data": {
      "image/png": "[encoded data removed]",
      "text/plain": [
       "<Figure size 432x288 with 1 Axes>"
      ]
     },
     "metadata": {
      "needs_background": "light"
     },
     "output_type": "display_data"
    }
   ],
   "source": [
    "label_list =['PAY_0',  'PAY_2',  'PAY_3',  'PAY_4',  'PAY_5',  'PAY_6']\n",
    "label_dict ={'PAY_0': 'PAY_0 - Sep, 2005', \n",
    "             'PAY_2': 'PAY_2 - Aug, 2005', \n",
    "             'PAY_3': 'PAY_3 - Jul, 2005', \n",
    "             'PAY_4': 'PAY_4 - Jun, 2005',  \n",
    "             'PAY_5': 'PAY_5 - May, 2005',  \n",
    "             'PAY_6': 'PAY_6 - Apr, 2005'}\n",
    "\n",
    "col = 'DEFAULTER'\n",
    "tittle = 'Proportion of Defaulters Versus Repayment Status'\n",
    "xlabel = 'Proportion of Defaulters'\n",
    "ylabel = 'Repayment Status'\n",
    "ticks = [-2, -1, 0, 1, 2, 3, 4, 5, 6, 7, 8,9]\n",
    "plot1(label_list, label_dict, train, col,tittle,xlabel,ylabel,ticks)"
   ]
  },
  {
   "cell_type": "markdown",
   "metadata": {
    "_cell_guid": "36b4d89c-0dcc-49c4-95db-7c58a495df29",
    "_uuid": "7184d43b08997b1e6f97613918d438c8cc6bc90d"
   },
   "source": [
    "## 7. Does the history of credit card bill amount has a correlation with the % of defaulters ?\n",
    "\n",
    "\n",
    "Observations:\n",
    "- The proportion of defaulters is positively correlated with bill amount in recent months."
   ]
  },
  {
   "cell_type": "code",
   "execution_count": 40,
   "metadata": {
    "_cell_guid": "9fb54181-b5c7-4ae2-b523-a154162de373",
    "_uuid": "f45f9028b26d2b490fcf160bba56a2a49a3d405d"
   },
   "outputs": [
    {
     "data": {
      "image/png": "[encoded data removed]",
      "text/plain": [
       "<Figure size 432x288 with 1 Axes>"
      ]
     },
     "metadata": {
      "needs_background": "light"
     },
     "output_type": "display_data"
    }
   ],
   "source": [
    "label_list =['BILL_AMT1', 'BILL_AMT2', 'BILL_AMT3', 'BILL_AMT4', 'BILL_AMT5', 'BILL_AMT6']\n",
    "label_dict ={'BILL_AMT1': 'BILL_AMT1 - Sep, 2005',  \n",
    "             'BILL_AMT2': 'BILL_AMT2 - Aug, 2005',\n",
    "             'BILL_AMT3': 'BILL_AMT3 - Jul, 2005', \n",
    "             'BILL_AMT4': 'BILL_AMT4 - Jun, 2005',  \n",
    "             'BILL_AMT5': 'BILL_AMT5 - May, 2005', \n",
    "             'BILL_AMT6': 'BILL_AMT6 - Apr, 2005'}\n",
    "\n",
    "col = 'DEFAULTER'\n",
    "tittle = 'Proportion of Defaulters Versus Bill Amount'\n",
    "xlabel = 'Proportion of Defaulters'\n",
    "ylabel = 'Bill Amount'\n",
    "ticks = []\n",
    "for i in range(0, 3000, 500):\n",
    "    ticks.append(round(i,1))\n",
    "plot1(label_list, label_dict, train, col,tittle,xlabel,ylabel,ticks)"
   ]
  },
  {
   "cell_type": "markdown",
   "metadata": {
    "_cell_guid": "a856adfb-f5ea-4a62-99da-dd22ee14408f",
    "_uuid": "1d9d47a86289115c4b96fa131d6a4507f6d0bd5a"
   },
   "source": [
    "# 3. Predictive Modeling"
   ]
  },
  {
   "cell_type": "code",
   "execution_count": 41,
   "metadata": {
    "_cell_guid": "ec85db08-6bed-4e19-8d53-3a29be6379d8",
    "_uuid": "2779a1193e5168cdd676ad3ad59ce79445cfd973"
   },
   "outputs": [
    {
     "ename": "ModuleNotFoundError",
     "evalue": "No module named 'xgboost'",
     "output_type": "error",
     "traceback": [
      "\u001b[1;31m---------------------------------------------------------------------------\u001b[0m",
      "\u001b[1;31mModuleNotFoundError\u001b[0m                       Traceback (most recent call last)",
      "\u001b[1;32m<ipython-input-41-a992ea1c5860>\u001b[0m in \u001b[0;36m<module>\u001b[1;34m\u001b[0m\n\u001b[0;32m     13\u001b[0m \u001b[1;32mfrom\u001b[0m \u001b[0msklearn\u001b[0m\u001b[1;33m.\u001b[0m\u001b[0mensemble\u001b[0m \u001b[1;32mimport\u001b[0m \u001b[0mGradientBoostingClassifier\u001b[0m\u001b[1;33m,\u001b[0m \u001b[0mRandomForestClassifier\u001b[0m\u001b[1;33m\u001b[0m\u001b[1;33m\u001b[0m\u001b[0m\n\u001b[0;32m     14\u001b[0m \u001b[1;32mfrom\u001b[0m \u001b[0msklearn\u001b[0m \u001b[1;32mimport\u001b[0m \u001b[0mpreprocessing\u001b[0m\u001b[1;33m,\u001b[0m \u001b[0mmetrics\u001b[0m\u001b[1;33m\u001b[0m\u001b[1;33m\u001b[0m\u001b[0m\n\u001b[1;32m---> 15\u001b[1;33m \u001b[1;32mfrom\u001b[0m \u001b[0mxgboost\u001b[0m \u001b[1;32mimport\u001b[0m \u001b[0mXGBClassifier\u001b[0m\u001b[1;33m\u001b[0m\u001b[1;33m\u001b[0m\u001b[0m\n\u001b[0m\u001b[0;32m     16\u001b[0m \u001b[0mwarnings\u001b[0m\u001b[1;33m.\u001b[0m\u001b[0mfilterwarnings\u001b[0m\u001b[1;33m(\u001b[0m\u001b[1;34m'ignore'\u001b[0m\u001b[1;33m)\u001b[0m \u001b[1;31m# to supress warnings\u001b[0m\u001b[1;33m\u001b[0m\u001b[1;33m\u001b[0m\u001b[0m\n",
      "\u001b[1;31mModuleNotFoundError\u001b[0m: No module named 'xgboost'"
     ]
    }
   ],
   "source": [
    "#from sklearn.cross_validation import train_test_split\n",
    "from sklearn.model_selection import learning_curve, GridSearchCV\n",
    "from sklearn.model_selection import train_test_split\n",
    "from sklearn.metrics import roc_curve, auc, confusion_matrix, classification_report,accuracy_score\n",
    "from sklearn.linear_model import LogisticRegression\n",
    "#from sklearn.grid_search import GridSearchCV\n",
    "from sklearn.model_selection import learning_curve\n",
    "from sklearn.tree import DecisionTreeClassifier\n",
    "from sklearn.neighbors import KNeighborsClassifier\n",
    "from sklearn.naive_bayes import GaussianNB\n",
    "from sklearn.svm import SVC\n",
    "from sklearn.model_selection import KFold\n",
    "from sklearn.ensemble import GradientBoostingClassifier, RandomForestClassifier\n",
    "from sklearn import preprocessing, metrics\n",
    "from xgboost import XGBClassifier\n",
    "warnings.filterwarnings('ignore') # to supress warnings"
   ]
  },
  {
   "cell_type": "code",
   "execution_count": null,
   "metadata": {
    "_cell_guid": "4f947a52-18fb-4bb0-acd4-e43b8c557aba",
    "_uuid": "a57e0a6374416c2810bda7156e71ccb65cae7d5c"
   },
   "outputs": [],
   "source": [
    "x = train.drop(['DEFAULTER'],axis = 1)\n",
    "y = train.DEFAULTER\n",
    "\n",
    "# rescale the metrics to the same mean and standard deviation\n",
    "scaler = preprocessing.StandardScaler()\n",
    "x = scaler.fit(x).transform(x)\n",
    "\n",
    "# Further divide the train data into train test split 70% & 30% respectively\n",
    "x_train, x_test, y_train, y_test = train_test_split(x, y, test_size=0.3, stratify=y, random_state=2)"
   ]
  },
  {
   "cell_type": "markdown",
   "metadata": {
    "_cell_guid": "7b2244eb-1283-49bf-881b-cf3b94fa50d2",
    "_uuid": "97b4e3d8f1993caff3f513f96f0784709abb042e"
   },
   "source": [
    "**Here we are first trying out below listed classification models to get the first look at accuracy**"
   ]
  },
  {
   "cell_type": "code",
   "execution_count": null,
   "metadata": {
    "_cell_guid": "49772316-0da3-4ec6-b054-108fd304275f",
    "_uuid": "16e583e178ac8f5e4a579c2fdda95066025f6481"
   },
   "outputs": [],
   "source": [
    "# list of different classifiers we are going to test\n",
    "clfs = {\n",
    "'LogisticRegression' : LogisticRegression(),\n",
    "'GaussianNB': GaussianNB(),\n",
    "'RandomForest': RandomForestClassifier(),\n",
    "'DecisionTreeClassifier': DecisionTreeClassifier(),\n",
    "'SVM': SVC(),\n",
    "'KNeighborsClassifier': KNeighborsClassifier(),\n",
    "'GradientBoosting': GradientBoostingClassifier(),\n",
    "'XGBClassifier': XGBClassifier()\n",
    "}"
   ]
  },
  {
   "cell_type": "code",
   "execution_count": null,
   "metadata": {
    "_cell_guid": "b3250b39-5285-4726-af73-69c6c3d8bfc0",
    "_uuid": "42b38c06cb8eedb80689e5e904426c7814a275a2"
   },
   "outputs": [],
   "source": [
    "# code block to test all models in clfs and generate a report\n",
    "models_report = pd.DataFrame(columns = ['Model', 'Precision_score', 'Recall_score','F1_score', 'Accuracy'])\n",
    "\n",
    "for clf, clf_name in zip(clfs.values(), clfs.keys()):\n",
    "    clf.fit(x_train,y_train)\n",
    "    y_pred = clf.predict(x_test)\n",
    "    y_score = clf.score(x_test,y_test)\n",
    "    \n",
    "    #print('Calculating {}'.format(clf_name))\n",
    "    t = pd.Series({ \n",
    "                     'Model': clf_name,\n",
    "                     'Precision_score': metrics.precision_score(y_test, y_pred),\n",
    "                     'Recall_score': metrics.recall_score(y_test, y_pred),\n",
    "                     'F1_score': metrics.f1_score(y_test, y_pred),\n",
    "                     'Accuracy': metrics.accuracy_score(y_test, y_pred)}\n",
    "                   )\n",
    "\n",
    "    models_report = models_report.append(t, ignore_index = True)\n",
    "\n",
    "models_report"
   ]
  },
  {
   "cell_type": "markdown",
   "metadata": {
    "_cell_guid": "8fd59a93-c44c-477c-a6fc-81a9f48150bd",
    "_uuid": "3dcce1060d5e3f48046c0ea177146c6a36d84dda"
   },
   "source": [
    "### From above report we can see that highest accuracy is given by XGboost followed by GradientBoosting, let us compare both."
   ]
  },
  {
   "cell_type": "code",
   "execution_count": null,
   "metadata": {
    "_cell_guid": "48828bf1-3857-4c80-9527-4154aee9386e",
    "_uuid": "e578bf8503f9ef03acf53577e514b7ac6ab060ff"
   },
   "outputs": [],
   "source": [
    "# Function to optimize model using gridsearch \n",
    "def gridsearch(model, params,x_train, x_test, y_train, y_test, kfold):\n",
    "    gs = GridSearchCV(model, params, scoring='accuracy', n_jobs=-1, cv=kfold)\n",
    "    gs.fit(x_train, y_train)\n",
    "    print ('Best params: ', gs.best_params_)\n",
    "    print ('Best AUC on Train set: ', gs.best_score_)\n",
    "    print( 'Best AUC on Test set: ', gs.score(x_test, y_test))\n",
    "\n",
    "# Function to generate confusion matrix\n",
    "def confmat(pred, y_test):\n",
    "    conmat = np.array(confusion_matrix(y_test, pred, labels=[1,0]))\n",
    "    conf = pd.DataFrame(conmat, index=['Defaulter', 'Not Defaulter'],\n",
    "                             columns=['Predicted Defaulter', 'Predicted Not Defaulter'])\n",
    "    print( conf)\n",
    "\n",
    "# Function to plot roc curve\n",
    "def roc(prob, y_test):\n",
    "    y_score = prob\n",
    "    fpr = dict()\n",
    "    tpr = dict()\n",
    "    roc_auc=dict()\n",
    "    fpr[1], tpr[1], _ = roc_curve(y_test, y_score)\n",
    "    roc_auc[1] = auc(fpr[1], tpr[1])\n",
    "    plt.figure(figsize=[7,7])\n",
    "    plt.plot(fpr[1], tpr[1], label='Roc curve (area=%0.2f)' %roc_auc[1], linewidth=4)\n",
    "    plt.plot([1,0], [1,0], 'k--', linewidth=4)\n",
    "    plt.xlim([0.0, 1.0])\n",
    "    plt.ylim([0.0, 1.0])\n",
    "    plt.xlabel('False Positive rate', fontsize=15)\n",
    "    plt.ylabel('True Positive rate', fontsize=15)\n",
    "    plt.title('ROC curve for Credit Default', fontsize=16)\n",
    "    plt.legend(loc='Lower Right')\n",
    "    plt.show()\n",
    "    \n",
    "def model(md, x_train, y_train,x_test, y_test):\n",
    "    md.fit(x_train, y_train)\n",
    "    pred = md.predict(x_test)\n",
    "    #prob = md.predict_proba(x_test)[:,1]\n",
    "    print( ' ' )\n",
    "    print ('Accuracy on Train set: ', md.score(x_train, y_train))\n",
    "    print( 'Accuracy on Test set: ', md.score(x_test, y_test))\n",
    "    print( ' ')\n",
    "    print(classification_report(y_test, pred))\n",
    "    print( ' ')\n",
    "    print('Confusion Matrix',confmat(pred, y_test))\n",
    "    \n",
    "    #roc(prob, y_test)\n",
    "    return md"
   ]
  },
  {
   "cell_type": "markdown",
   "metadata": {
    "_cell_guid": "3d2eabdf-dc59-472d-80d3-511a96783562",
    "_uuid": "87a4f8fa53314b83af094393d21dea94d55bf020"
   },
   "source": [
    "### Parameter tuning\n",
    "\n",
    "There are a few parameters that require tuning to improve the performance. I use GridSearchCV method to test model through a series of parameter values."
   ]
  },
  {
   "cell_type": "markdown",
   "metadata": {
    "_cell_guid": "fc972554-d21f-4ee2-b691-d2110b73bf98",
    "_uuid": "926d0945f4bc38bf80b0bc857129100331d91795"
   },
   "source": [
    "### GradientBoosting"
   ]
  },
  {
   "cell_type": "code",
   "execution_count": null,
   "metadata": {
    "_cell_guid": "d42bf4f8-031c-4964-97e2-a8d51318a85c",
    "_uuid": "9a312d3f5a6109c010be40106ad5abad0fcbb9d3"
   },
   "outputs": [],
   "source": [
    "# Use gridsearch to fine tune the parameters\n",
    "gb = GradientBoostingClassifier()\n",
    "gb_params = {'n_estimators': [100,200,300],'learning_rate' : [0.01, 0.02, 0.05, 0.1]}\n",
    "gridsearch(gb, gb_params,x_train, x_test, y_train, y_test,5)"
   ]
  },
  {
   "cell_type": "code",
   "execution_count": null,
   "metadata": {
    "_cell_guid": "66ad53d2-b30c-4850-b2ec-fe9db5fe1119",
    "_uuid": "83fffd4bb0ab415191b11a42b499e8527ba01d8e"
   },
   "outputs": [],
   "source": [
    "# feature selection with the best model from grid search\n",
    "gb = GradientBoostingClassifier(learning_rate= 0.02, max_depth= 7,n_estimators=300, max_features = 0.9,min_samples_leaf = 5)\n",
    "model_gb = model(gb, x_train, y_train,x_test, y_test)"
   ]
  },
  {
   "cell_type": "markdown",
   "metadata": {
    "_cell_guid": "5d08c241-6034-40ba-b352-be93a8c69f5d",
    "_uuid": "5ff36afbbf4a66896ae29d8a468945fd84e93828"
   },
   "source": [
    "### XGboost"
   ]
  },
  {
   "cell_type": "code",
   "execution_count": null,
   "metadata": {
    "_cell_guid": "2b5b7f09-64f0-4345-ba7c-d9d8e9be826f",
    "_uuid": "c3ed10567eb7daf6f4dc38682ac466db68acb8f4"
   },
   "outputs": [],
   "source": [
    "# Use gridsearch to fine tune the parameters\n",
    "xgb = XGBClassifier()\n",
    "xgb_params = {'n_estimators':[200,300],'learning_rate':[0.05,0.02], 'max_depth':[4],'min_child_weight':[0],'gamma':[0]}\n",
    "gridsearch(xgb, xgb_params,x_train, x_test, y_train, y_test,5)"
   ]
  },
  {
   "cell_type": "code",
   "execution_count": null,
   "metadata": {
    "_cell_guid": "6722c28c-cfe3-4797-b9ed-0757b0311e0b",
    "_uuid": "4fe1f42aace552021b6a8af3b9f6c28228c4da4b"
   },
   "outputs": [],
   "source": [
    "# feature selection with the best model from grid search\n",
    "xgb = XGBClassifier(\n",
    " learning_rate =0.05,\n",
    " n_estimators=200,\n",
    " max_depth=4,\n",
    " min_child_weight=0,\n",
    " gamma=0,\n",
    " subsample=0.8,\n",
    " colsample_bytree=0.8,\n",
    " objective= 'binary:logistic',\n",
    " nthread=1,\n",
    " scale_pos_weight=1,\n",
    " seed=27)\n",
    "model_xgb = model(xgb, x_train, y_train,x_test, y_test)"
   ]
  },
  {
   "cell_type": "markdown",
   "metadata": {
    "_cell_guid": "c0ca06dd-a43b-4379-a305-add72b98634a",
    "_uuid": "623e26ee234e2263fbe02001bc86217de7a832ea"
   },
   "source": [
    "The classification metrics of iterest for this fairly imbalanced dataset are: \n",
    "- precision = tp / (tp + fp)\n",
    "- recall = tp / (tp + fn)\n",
    "- f1 = 2(precision)(recall) / (precision + recall)\n",
    "- Roc curve area\n",
    "\n",
    "Depending upon banks operational costs & ideology a large bank may follow the principal that fewer False Positives are preferable over a few more False Negatives to be able to lend more & spend less on investigations on the contrary a conservative approach would go with the opposite i.e more accuracy.\n",
    "\n",
    "### Therefore we see that XGBoost trains with little higher accuracy and auc score than GradientBoost. We will use XGBoost for final predictions. i.e. fewer False Positives are preferable over a few more False Negatives"
   ]
  },
  {
   "cell_type": "markdown",
   "metadata": {
    "_cell_guid": "1c26a221-1bfc-4f7a-8f03-9696ebced5ff",
    "_uuid": "8ce3ffb588fff2e86e1f64f037af180e8bc165c7"
   },
   "source": [
    "Save the output to csv file in desired format"
   ]
  },
  {
   "cell_type": "code",
   "execution_count": null,
   "metadata": {
    "_cell_guid": "95b322d4-4308-4fa0-89ac-a1a4852e4c70",
    "_uuid": "c4b6ccc5d176866451ab1254aa06652e014a7bfa"
   },
   "outputs": [],
   "source": [
    "#Predict final values on Test data set\n",
    "test['PREDICTED_STATUS']=np.int_(model_gb.predict(test.drop(['DEFAULTER'],axis = 1)))\n",
    "test.index.names = ['ID']"
   ]
  },
  {
   "cell_type": "code",
   "execution_count": null,
   "metadata": {
    "_cell_guid": "9fc2567f-a3c0-4728-9269-0227e3ec3c09",
    "_uuid": "29380b36bf9057109e64454279c56eeab72a439f"
   },
   "outputs": [],
   "source": [
    "#test.head()"
   ]
  },
  {
   "cell_type": "code",
   "execution_count": null,
   "metadata": {
    "_cell_guid": "9a67e238-7bde-435b-84af-73c15ab93ccd",
    "_uuid": "30f0c6d05db13a4fd789f860315fe445a6e842bf"
   },
   "outputs": [],
   "source": [
    "test['PREDICTED_STATUS'].to_csv(\"credit_card_default_TRAIN_Predict.csv\")"
   ]
  },
  {
   "cell_type": "code",
   "execution_count": null,
   "metadata": {
    "_cell_guid": "ac32f54c-70c6-41a8-9815-5514c354373a",
    "_uuid": "c1f78874f7aea29d57429f56687568e452a68e66"
   },
   "outputs": [],
   "source": [
    "test.DEFAULTER.mean()*100"
   ]
  },
  {
   "cell_type": "code",
   "execution_count": null,
   "metadata": {
    "_cell_guid": "598efbe9-6888-4137-bda3-bb6d541bbe5e",
    "_uuid": "04657eb99cab9461165c3c0629b8c198e1b408af"
   },
   "outputs": [],
   "source": [
    "y_train.head()"
   ]
  }
 ],
 "metadata": {
  "kernelspec": {
   "display_name": "Python 3",
   "language": "python",
   "name": "python3"
  },
  "language_info": {
   "codemirror_mode": {
    "name": "ipython",
    "version": 3
   },
   "file_extension": ".py",
   "mimetype": "text/x-python",
   "name": "python",
   "nbconvert_exporter": "python",
   "pygments_lexer": "ipython3",
   "version": "3.7.4"
  }
 },
 "nbformat": 4,
 "nbformat_minor": 1
}
